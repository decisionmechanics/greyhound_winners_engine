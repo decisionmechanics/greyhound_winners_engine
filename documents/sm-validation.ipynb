{
 "cells": [
  {
   "cell_type": "markdown",
   "id": "d82b6b6c-16c3-40a8-afed-027e599235e1",
   "metadata": {},
   "source": [
    "# Super Match validation"
   ]
  },
  {
   "cell_type": "code",
   "execution_count": null,
   "id": "a7e80997-b55d-49d7-b0e3-5e0e2ea8f405",
   "metadata": {},
   "outputs": [],
   "source": [
    "import random\n",
    "from itertools import combinations, product"
   ]
  },
  {
   "cell_type": "markdown",
   "id": "b236568d-c34c-4a33-ae19-8532d24bcd43",
   "metadata": {},
   "source": [
    "Generate potential outcomes."
   ]
  },
  {
   "cell_type": "code",
   "execution_count": null,
   "id": "d04397e2-b365-40c0-a579-64fa0c98e51b",
   "metadata": {},
   "outputs": [],
   "source": [
    "traps = list(range(1, 7))\n",
    "potential_outcomes = list(product(traps, traps, traps, traps, traps, traps))\n",
    "\n",
    "assert len(potential_outcomes) == 6**6\n",
    "assert potential_outcomes[0] == (1, 1, 1, 1, 1, 1)\n",
    "assert potential_outcomes[-1] == (6, 6, 6, 6, 6, 6)"
   ]
  },
  {
   "cell_type": "markdown",
   "id": "149607d0-721d-43f9-b25a-8fb03ef05769",
   "metadata": {},
   "source": [
    "Set desired RTP (1 for fair prices)."
   ]
  },
  {
   "cell_type": "code",
   "execution_count": null,
   "id": "bad2e375-13ec-49ee-bab5-a7176ce935d6",
   "metadata": {},
   "outputs": [],
   "source": [
    "RTP = 1"
   ]
  },
  {
   "cell_type": "markdown",
   "id": "56e499fd-ee00-4ca6-9fc0-4004a7ee683e",
   "metadata": {},
   "source": [
    "## Win Variant"
   ]
  },
  {
   "cell_type": "code",
   "execution_count": null,
   "id": "ab76a130-c63b-41ea-9f40-0d9ff3ff48e3",
   "metadata": {},
   "outputs": [],
   "source": [
    "def count_contiguous_matches(matches, match_length):\n",
    "    result = 0\n",
    "\n",
    "    for i in range(7 - match_length):\n",
    "        for j in range(match_length):\n",
    "            if not matches[i + j]:\n",
    "                break\n",
    "        else:\n",
    "            result += 1\n",
    "\n",
    "    return result"
   ]
  },
  {
   "cell_type": "code",
   "execution_count": null,
   "id": "be26276e-af64-4f66-a146-233ac526b4d8",
   "metadata": {},
   "outputs": [],
   "source": [
    "def count_contiguous_matching_sequences(selection, outcome, match_length):\n",
    "    matches = [\n",
    "        selection_trap == outcome_trap\n",
    "        for selection_trap, outcome_trap in zip(selection, outcome)\n",
    "    ]\n",
    "\n",
    "    return count_contiguous_matches(matches, match_length)"
   ]
  },
  {
   "cell_type": "code",
   "execution_count": null,
   "id": "627432fa-758b-4e4b-b815-a20a383a9023",
   "metadata": {},
   "outputs": [],
   "source": [
    "selection = [1, 2, 3, 4, 5, 6]\n",
    "\n",
    "for match_length in range(6, 1, -1):\n",
    "    total_dividends = 0\n",
    "\n",
    "    for outcome in potential_outcomes:\n",
    "        dividends = count_contiguous_matching_sequences(\n",
    "            selection, outcome, match_length\n",
    "        )\n",
    "\n",
    "        total_dividends += dividends\n",
    "\n",
    "    expected_dividends = total_dividends / len(potential_outcomes)\n",
    "\n",
    "    print(\n",
    "        f\"Expected dividends on Match {match_length} (Win) is {expected_dividends:.8%} (price is {RTP/expected_dividends:.2f})\"\n",
    "    )"
   ]
  },
  {
   "cell_type": "markdown",
   "id": "8c6a3c9e-2f5b-4cf9-8c80-6e7fe279879d",
   "metadata": {},
   "source": [
    "## With a Break Variant"
   ]
  },
  {
   "cell_type": "code",
   "execution_count": null,
   "id": "ebbf71d6-a0c5-4cd6-9c8b-5c54f72691c5",
   "metadata": {},
   "outputs": [],
   "source": [
    "def count_non_contiguous_matches(matches, match_length):\n",
    "    result = 0\n",
    "\n",
    "    for sequence_indexes in combinations(range(6), match_length):\n",
    "        sequence = [matches[index] for index in sequence_indexes]\n",
    "\n",
    "        if all(sequence):\n",
    "            result += 1\n",
    "    \n",
    "    return result"
   ]
  },
  {
   "cell_type": "code",
   "execution_count": null,
   "id": "41ab1d46-a6d3-441f-8a3d-245f7c8c98e5",
   "metadata": {},
   "outputs": [],
   "source": [
    "def count_non_contiguous_matching_sequences(selection, outcome, match_length):\n",
    "    matches = [\n",
    "        selection_trap == outcome_trap\n",
    "        for selection_trap, outcome_trap in zip(selection, outcome)\n",
    "    ]\n",
    "\n",
    "    return count_non_contiguous_matches(matches, match_length)"
   ]
  },
  {
   "cell_type": "code",
   "execution_count": null,
   "id": "98a4e3f0-5c66-435a-b1be-286b4d740fe8",
   "metadata": {},
   "outputs": [],
   "source": [
    "selection = [1, 2, 3, 4, 5, 6]\n",
    "\n",
    "for match_length in range(6, 1, -1):\n",
    "    total_dividends = 0\n",
    "\n",
    "    for outcome in potential_outcomes:        \n",
    "        dividends = count_non_contiguous_matching_sequences(\n",
    "            selection, outcome, match_length\n",
    "        )\n",
    "        \n",
    "        total_dividends += dividends\n",
    "\n",
    "    expected_dividends = total_dividends / len(potential_outcomes)\n",
    "\n",
    "    print(\n",
    "        f\"Expected dividends on Match {match_length} (WAB) is ({total_dividends}) {expected_dividends:.8%} (price is {RTP/expected_dividends:.2f})\"\n",
    "    )"
   ]
  }
 ],
 "metadata": {
  "kernelspec": {
   "display_name": "Python 3 (ipykernel)",
   "language": "python",
   "name": "python3"
  },
  "language_info": {
   "codemirror_mode": {
    "name": "ipython",
    "version": 3
   },
   "file_extension": ".py",
   "mimetype": "text/x-python",
   "name": "python",
   "nbconvert_exporter": "python",
   "pygments_lexer": "ipython3",
   "version": "3.11.9"
  }
 },
 "nbformat": 4,
 "nbformat_minor": 5
}

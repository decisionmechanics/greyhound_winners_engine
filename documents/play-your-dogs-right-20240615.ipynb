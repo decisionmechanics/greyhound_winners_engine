{
 "cells": [
  {
   "cell_type": "markdown",
   "id": "9818e6d5-86fa-4b45-83ff-a1d7c178d9f8",
   "metadata": {},
   "source": [
    "# Play Your Dogs Right game"
   ]
  },
  {
   "attachments": {},
   "cell_type": "markdown",
   "id": "4c96fadf-ccc9-4310-be1a-6acdf22df3e0",
   "metadata": {},
   "source": [
    "This betting game has four markets\n",
    "\n",
    "- All Up Win\n",
    "- All Up With A Break\n",
    "- Second Chance Win\n",
    "- Second Chance With A Break\n",
    "\n",
    "The players bets one stake for Win and two stakes for With A Break.\n",
    "\n",
    "The player bets a series of letters, `H` or `L`, denoting a higher or lower outcome of a winning dog trap number when compared with the previous race. Race 0 (i.e. before the races start) has a seeded value of 3.5.\n",
    "\n",
    "The player makes their bet by selecting six consecutive options of \"higher\" or \"lower\", e.g. `HHLHLL`.\n",
    "\n",
    "The result numbers are drawn sequentially."
   ]
  },
  {
   "cell_type": "markdown",
   "id": "7acde2dd-dbc3-4da7-bebe-2b2a02c7fe43",
   "metadata": {},
   "source": [
    "This is not a conventional betting market but one that adds fun and excitement through the entire play of six races. The market \"starts\" with a seed value of 3.5. In the first race the winning dog trap number is either higher or lower than the seed number. For the remaining 5 races the winning trap number is either higher, lower, or the same as the winner of the previous race.\n",
    "\n",
    "The rules to win are: each correct consective correct  prediction matching the game sequence result counts towards a \"run\", and winning dividends are returned based on the length of a winning run. In the example following, `*` denotes a losing choice, so the result `HHL***` describes a winning run of three, from a sequence of winning traps 4,6,3,2,1,2 from a bet placed as `HHLHHH`.\n",
    "\n",
    "In the \"Win\" market if the subsequent race winning trap number is equal to that of the previous race, the selection is a loser, and the run comes to a stop.\n",
    "\n",
    "If the selection on the first race is wrong, it is a loser, _but_ the run continues. So, HHLLHL against 3,5,4,2,1,1 results in `*HLLL*`, which is a winning run of 4."
   ]
  },
  {
   "cell_type": "markdown",
   "id": "85bff71e-f299-4171-893d-2629b4034159",
   "metadata": {},
   "source": [
    "## Configuration"
   ]
  },
  {
   "cell_type": "code",
   "execution_count": null,
   "id": "478bdfa2-32d3-4a12-92fa-fe7f3611f490",
   "metadata": {},
   "outputs": [],
   "source": [
    "from itertools import product"
   ]
  },
  {
   "cell_type": "markdown",
   "id": "1f53d8db-e025-4076-bc0b-000d76f569a7",
   "metadata": {},
   "source": [
    "## Potential outcomes"
   ]
  },
  {
   "cell_type": "markdown",
   "id": "97e4ec49-c61a-4d10-8236-57d0cd7dd215",
   "metadata": {},
   "source": [
    "Generate all 46656 possible outcomes."
   ]
  },
  {
   "cell_type": "code",
   "execution_count": null,
   "id": "9414a90a-43a8-4f05-9118-0b39de5fbc83",
   "metadata": {},
   "outputs": [],
   "source": [
    "traps = list(range(1, 7))\n",
    "potential_outcomes = list(product(traps, traps, traps, traps, traps, traps))\n",
    "\n",
    "assert len(potential_outcomes) == 6**6"
   ]
  },
  {
   "cell_type": "markdown",
   "id": "090b3d62-e0f4-44bb-be37-09fe51c9a35a",
   "metadata": {},
   "source": [
    "## Settlement"
   ]
  },
  {
   "cell_type": "code",
   "execution_count": null,
   "id": "39e8cc2b-7517-48eb-99cd-8f5a0c65e65e",
   "metadata": {},
   "outputs": [],
   "source": [
    "def get_run_length(outcome, selection, insured=False, second_chance=False):\n",
    "    previous_trap = 3.5\n",
    "    insurance_available = insured\n",
    "    run_length = 0\n",
    "\n",
    "    for index, (trap, choice) in enumerate(zip(outcome, selection)):\n",
    "        correct_choice = (choice == \"L\" and trap < previous_trap) or (\n",
    "            choice == \"H\" and trap > previous_trap\n",
    "        )\n",
    "\n",
    "        previous_trap = trap\n",
    "\n",
    "        if correct_choice:\n",
    "            run_length += 1\n",
    "\n",
    "            continue\n",
    "\n",
    "        if second_chance and index == 0:\n",
    "            continue\n",
    "\n",
    "        if insurance_available:\n",
    "            insurance_available = False\n",
    "\n",
    "            continue\n",
    "\n",
    "        break\n",
    "\n",
    "    return run_length"
   ]
  },
  {
   "cell_type": "markdown",
   "id": "df987326-927e-445e-ba13-4f6fe4360681",
   "metadata": {},
   "source": [
    "## Simulation"
   ]
  },
  {
   "cell_type": "code",
   "execution_count": null,
   "id": "26372f10-a183-4ea7-8fa4-8a83feefccda",
   "metadata": {},
   "outputs": [],
   "source": [
    "def simulate(selection, insured=False, second_chance=False):\n",
    "    assert set(selection) == {\"H\", \"L\"}\n",
    "\n",
    "    run_length_frequencies = {}\n",
    "\n",
    "    for outcome in potential_outcomes:\n",
    "        run_length = get_run_length(outcome, selection, insured, second_chance)\n",
    "\n",
    "        run_length_frequencies[run_length] = (\n",
    "            run_length_frequencies.get(run_length, 0) + 1\n",
    "        )\n",
    "\n",
    "    assert sum(run_length_frequencies.values()) == 6**6\n",
    "\n",
    "    run_length_probabilities = {\n",
    "        run_length: run_length_frequencies.get(run_length, 0) / 6**6\n",
    "        for run_length in range(0, 7)\n",
    "    }\n",
    "\n",
    "    assert abs(1 - sum(run_length_probabilities.values())) < 1e-9\n",
    "\n",
    "    return run_length_probabilities"
   ]
  },
  {
   "cell_type": "markdown",
   "id": "737a18ae-9425-4576-9161-23a38cca0ab3",
   "metadata": {},
   "source": [
    "## Optimal strategy"
   ]
  },
  {
   "cell_type": "code",
   "execution_count": null,
   "id": "84bdc34c-5b06-425e-a965-f2b89ffb5e6f",
   "metadata": {},
   "outputs": [],
   "source": [
    "optimal_selection = \"HLHLHL\""
   ]
  },
  {
   "cell_type": "markdown",
   "id": "cf3abc97-1387-467f-994f-1fb184d13338",
   "metadata": {},
   "source": [
    "## Reporting"
   ]
  },
  {
   "cell_type": "code",
   "execution_count": null,
   "id": "c3bd53cf-4d8f-4a74-b490-70d83b17e968",
   "metadata": {},
   "outputs": [],
   "source": [
    "def print_report(variant, probabilities):\n",
    "    print(variant)\n",
    "    print(\"-\" * len(variant))\n",
    "\n",
    "    for run_length, p in probabilities.items():\n",
    "        print(f\"  {run_length}: p = {p:.4f}, price = {1 / p:.4f}\")"
   ]
  },
  {
   "cell_type": "markdown",
   "id": "259ea03c-98d8-48e5-b8cc-3f9253d51948",
   "metadata": {},
   "source": [
    "## All Up Win variant"
   ]
  },
  {
   "cell_type": "markdown",
   "id": "713fdf18-77a2-4e00-a9e7-b44b68153195",
   "metadata": {},
   "source": [
    "Settlement rules: The run continues with each race's correct prediction of Higher or Lower. The point at which the prediction is incorrect the run stops."
   ]
  },
  {
   "cell_type": "code",
   "execution_count": null,
   "id": "74e673ae-db5a-4715-93d6-b487520c78fa",
   "metadata": {},
   "outputs": [],
   "source": [
    "all_up_win_probabilities = simulate(optimal_selection)\n",
    "\n",
    "print_report(\"All Up Win\", all_up_win_probabilities)"
   ]
  },
  {
   "attachments": {},
   "cell_type": "markdown",
   "id": "f5e5f6c7-1f77-4bc3-a38c-2be6f302d2d9",
   "metadata": {},
   "source": [
    "## All Up With A Break variant"
   ]
  },
  {
   "cell_type": "markdown",
   "id": "bd4a2123-0fb8-4834-8423-ec9f29e54fad",
   "metadata": {},
   "source": [
    "Settlement rules: The run continues with each race's correct prediction of Higher or Lower. If a single prediction is wrong, the bet continues further but stops with a subsequent wrong prediction."
   ]
  },
  {
   "cell_type": "code",
   "execution_count": null,
   "id": "813cc4ea-cb97-4814-85a1-32890e316504",
   "metadata": {},
   "outputs": [],
   "source": [
    "all_up_with_a_break_probabilities = simulate(optimal_selection, insured=True)\n",
    "\n",
    "print_report(\"All Up With A Break\", all_up_with_a_break_probabilities)"
   ]
  },
  {
   "cell_type": "markdown",
   "id": "06eaaa23-0e19-4a8a-b3af-8f9d55512fe6",
   "metadata": {},
   "source": [
    "## Second Chance Win variant"
   ]
  },
  {
   "cell_type": "markdown",
   "id": "8a119874-b6d8-4384-baf0-125206986ea4",
   "metadata": {},
   "source": [
    "Settlement rules: The outcome of the first race prediction is ignored if it is incorrect. The bet then continues with each race's correct prediction of Higher or Lower. The point at which the prediction is incorrect the run stops."
   ]
  },
  {
   "cell_type": "code",
   "execution_count": null,
   "id": "1c5f55f9-fe10-458a-b95a-e049f24c1226",
   "metadata": {},
   "outputs": [],
   "source": [
    "second_chance_win_probabilities = simulate(optimal_selection, second_chance=True)\n",
    "\n",
    "print_report(\"Second Chance Win\", second_chance_win_probabilities)"
   ]
  },
  {
   "cell_type": "markdown",
   "id": "8baa1c9b-17e6-4363-bfd4-156767638ea9",
   "metadata": {},
   "source": [
    "## Second Chance With A Break variant"
   ]
  },
  {
   "cell_type": "markdown",
   "id": "8d8ccc12-ca04-4413-bcdb-fdea322f236c",
   "metadata": {},
   "source": [
    "Settlement rules: The outcome of the first race prediction is ignored if it is incorrect. The bet then continues from the second race, with each race's correct prediction of Higher or Lower. If a single prediction is wrong, the bet continues further but stops with a subsequent wrong prediction."
   ]
  },
  {
   "cell_type": "code",
   "execution_count": null,
   "id": "21182192-84de-49a7-abca-6abf734369d4",
   "metadata": {},
   "outputs": [],
   "source": [
    "second_chance_with_a_break_probabilities = simulate(optimal_selection, insured=True, second_chance=True)\n",
    "\n",
    "print_report(\"Second Chance With A Break\", second_chance_with_a_break_probabilities)"
   ]
  }
 ],
 "metadata": {
  "kernelspec": {
   "display_name": "Python 3 (ipykernel)",
   "language": "python",
   "name": "python3"
  },
  "language_info": {
   "codemirror_mode": {
    "name": "ipython",
    "version": 3
   },
   "file_extension": ".py",
   "mimetype": "text/x-python",
   "name": "python",
   "nbconvert_exporter": "python",
   "pygments_lexer": "ipython3",
   "version": "3.11.9"
  }
 },
 "nbformat": 4,
 "nbformat_minor": 5
}

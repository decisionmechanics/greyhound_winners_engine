{
 "cells": [
  {
   "cell_type": "markdown",
   "id": "e2ceeef1-156d-407f-9337-3a2aa48cb3f6",
   "metadata": {
    "tags": []
   },
   "source": [
    "# Catch A Match game"
   ]
  },
  {
   "cell_type": "markdown",
   "id": "cd657e4d-0565-48cf-a0f2-91ffbdaf7ee5",
   "metadata": {},
   "source": [
    "This betting market has a single variant, a Win variant. The players bets one stake. \t\t\t"
   ]
  },
  {
   "cell_type": "code",
   "execution_count": null,
   "id": "40d531f7-3810-4b07-a201-3d45482813b7",
   "metadata": {
    "tags": []
   },
   "outputs": [],
   "source": [
    "from itertools import product\n",
    "from math import comb"
   ]
  },
  {
   "cell_type": "code",
   "execution_count": null,
   "id": "474a079e-d5d0-4de3-982b-f6c4e96ebc9f",
   "metadata": {
    "tags": []
   },
   "outputs": [],
   "source": [
    "def calculate_fair_prices(counts):\n",
    "    returns_to_player = {}\n",
    "\n",
    "    for selection in counts:\n",
    "        returns_to_player[selection] = 1 / (counts[selection] / 6**6)\n",
    "\n",
    "    return returns_to_player"
   ]
  },
  {
   "cell_type": "code",
   "execution_count": null,
   "id": "ce8ee2ac-8daa-478b-b7e6-d5a2cc050213",
   "metadata": {
    "tags": []
   },
   "outputs": [],
   "source": [
    "def calculate_probabilities(counts):\n",
    "    probabilities = {}\n",
    "\n",
    "    for selection in counts:\n",
    "        probabilities[selection] = counts[selection] / 6**6\n",
    "\n",
    "    return probabilities"
   ]
  },
  {
   "cell_type": "markdown",
   "id": "edfe177d-2dca-4039-8fd1-c66476e913ef",
   "metadata": {},
   "source": [
    "## Potential outcomes"
   ]
  },
  {
   "cell_type": "markdown",
   "id": "567aefe3-b8a1-4eb5-8f1a-b44c9efdf2c5",
   "metadata": {},
   "source": [
    "Create list of all possible outcomes. There should be 6^6 (46656) outcomes."
   ]
  },
  {
   "cell_type": "code",
   "execution_count": null,
   "id": "20057e6b-d834-4e10-8fe8-91075287d353",
   "metadata": {
    "tags": []
   },
   "outputs": [],
   "source": [
    "traps = list(range(1, 7))\n",
    "potential_outcomes = list(product(traps, traps, traps, traps, traps, traps))\n",
    "\n",
    "print(len(potential_outcomes) == 6**6)\n",
    "print(potential_outcomes[:10])"
   ]
  },
  {
   "cell_type": "markdown",
   "id": "34d7e5b0-55b1-49f1-82bc-c2df36fc379a",
   "metadata": {},
   "source": [
    "## Win variant"
   ]
  },
  {
   "cell_type": "markdown",
   "id": "77fb6911-d9df-4a38-bf40-771e88270f52",
   "metadata": {},
   "source": [
    "Winning outcomes are:\n",
    "\n",
    "- Crowded House - six different trap numbers\n",
    "- Full Traps - Foursome over Twosome and vice versa\n",
    "- Half Traps - Threesome over Threesome\n",
    "- Full House - Threesome over Twosome\n",
    "- Super Six - six of the same\n",
    "- Five-Up - five of the same\n",
    "- Foursome - four traps the same\n",
    "- Threesome - three traps the same\n",
    "- Twosome - pair of traps"
   ]
  },
  {
   "cell_type": "code",
   "execution_count": null,
   "id": "287bcce4-894a-4559-923f-662a270b415c",
   "metadata": {},
   "outputs": [],
   "source": [
    "def count_traps(outcome):\n",
    "    trap_counts = {}\n",
    "\n",
    "    for trap in outcome:\n",
    "        trap_counts[trap] = trap_counts.get(trap, 0) + 1\n",
    "\n",
    "    return sorted(trap_counts.values(), reverse=True)"
   ]
  },
  {
   "cell_type": "code",
   "execution_count": null,
   "id": "4d72323f-978b-4bf4-abd7-035416bface0",
   "metadata": {},
   "outputs": [],
   "source": [
    "def count_crowded_house_dividends(tallies):\n",
    "    return 1 if len(tallies) == 6 else 0"
   ]
  },
  {
   "cell_type": "code",
   "execution_count": null,
   "id": "b2068884-32a7-4f9e-8b9f-dfb830a416ee",
   "metadata": {},
   "outputs": [],
   "source": [
    "def count_full_traps_dividends(tallies):\n",
    "    return 1 if tallies == [4, 2] else 0"
   ]
  },
  {
   "cell_type": "code",
   "execution_count": null,
   "id": "2923f2be-c377-404e-884f-ed7e26fca808",
   "metadata": {},
   "outputs": [],
   "source": [
    "def count_half_traps_dividends(tallies):\n",
    "    return 1 if tallies == [3, 3] else 0"
   ]
  },
  {
   "cell_type": "markdown",
   "id": "dd2ef10e-e9eb-413c-a3f0-fc6f63902dda",
   "metadata": {},
   "source": [
    "Full House doesn't have permuations. The code that supported permutations was as follows.\n",
    "\n",
    "```python\n",
    "def count_full_house_dividends(tallies):\n",
    "    if tallies[0] >= 5:\n",
    "        return comb(tallies[0], 5)\n",
    "\n",
    "    if tallies[0] >= 3 and tallies[1] >= 2:\n",
    "        return comb(tallies[0], 3) * comb(tallies[1], 2) + comb(tallies[1], 3) * comb(tallies[0], 2)\n",
    "\n",
    "    return 0\n",
    "```"
   ]
  },
  {
   "cell_type": "code",
   "execution_count": null,
   "id": "978811e5-cdcf-4cb8-9a18-2a38cc9a6fda",
   "metadata": {},
   "outputs": [],
   "source": [
    "def count_full_house_dividends(tallies):\n",
    "    return 1 if tallies[0] >= 5 or (tallies[0] >= 3 and tallies[1] >= 2) else 0"
   ]
  },
  {
   "cell_type": "code",
   "execution_count": null,
   "id": "dd9b9843-4ff2-4ea9-a2c5-8b925bcd106f",
   "metadata": {},
   "outputs": [],
   "source": [
    "def count_identical_trap_dividends(n, tallies):\n",
    "    return sum(comb(tally, n) for tally in tallies)"
   ]
  },
  {
   "cell_type": "code",
   "execution_count": null,
   "id": "4553badb-b136-4816-8650-6b06a2bc8576",
   "metadata": {},
   "outputs": [],
   "source": [
    "dividends = {}\n",
    "\n",
    "for outcome in potential_outcomes:\n",
    "    tallies = count_traps(outcome)\n",
    "\n",
    "    dividends[\"crowded-house\"] = dividends.get(\n",
    "        \"crowded-house\", 0\n",
    "    ) + count_crowded_house_dividends(tallies)\n",
    "    dividends[\"full-traps\"] = dividends.get(\n",
    "        \"full-traps\", 0\n",
    "    ) + count_full_traps_dividends(tallies)\n",
    "    dividends[\"half-traps\"] = dividends.get(\n",
    "        \"half-traps\", 0\n",
    "    ) + count_half_traps_dividends(tallies)\n",
    "    dividends[\"full-house\"] = dividends.get(\n",
    "        \"full-house\", 0\n",
    "    ) + count_full_house_dividends(tallies)\n",
    "    dividends[\"super-six\"] = dividends.get(\n",
    "        \"super-six\", 0\n",
    "    ) + count_identical_trap_dividends(6, tallies)\n",
    "    dividends[\"five-up\"] = dividends.get(\"five-up\", 0) + count_identical_trap_dividends(\n",
    "        5, tallies\n",
    "    )\n",
    "    dividends[\"foursome\"] = dividends.get(\n",
    "        \"foursome\", 0\n",
    "    ) + count_identical_trap_dividends(4, tallies)\n",
    "    dividends[\"threesome\"] = dividends.get(\n",
    "        \"threesome\", 0\n",
    "    ) + count_identical_trap_dividends(3, tallies)\n",
    "    dividends[\"twosome\"] = dividends.get(\"twosome\", 0) + count_identical_trap_dividends(\n",
    "        2, tallies\n",
    "    )"
   ]
  },
  {
   "cell_type": "code",
   "execution_count": null,
   "id": "b6c55515-ac12-4af8-bbcf-acf583ff6584",
   "metadata": {},
   "outputs": [],
   "source": [
    "for result, dividend_count in dividends.items():\n",
    "    print(f\"payout for {result} = {len(potential_outcomes) / dividend_count:.4f}\")"
   ]
  }
 ],
 "metadata": {
  "kernelspec": {
   "display_name": "Python 3 (ipykernel)",
   "language": "python",
   "name": "python3"
  },
  "language_info": {
   "codemirror_mode": {
    "name": "ipython",
    "version": 3
   },
   "file_extension": ".py",
   "mimetype": "text/x-python",
   "name": "python",
   "nbconvert_exporter": "python",
   "pygments_lexer": "ipython3",
   "version": "3.11.9"
  }
 },
 "nbformat": 4,
 "nbformat_minor": 5
}

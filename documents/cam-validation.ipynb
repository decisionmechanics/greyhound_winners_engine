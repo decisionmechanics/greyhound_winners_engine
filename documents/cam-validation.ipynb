{
 "cells": [
  {
   "cell_type": "markdown",
   "id": "416fb5d2-cddf-4d77-af17-7c366e8061cf",
   "metadata": {},
   "source": [
    "# Catch A Match validation"
   ]
  },
  {
   "cell_type": "code",
   "execution_count": null,
   "id": "58ffc4f5-609f-42f8-9499-10a2c599d3f6",
   "metadata": {},
   "outputs": [],
   "source": [
    "import random\n",
    "from collections import Counter\n",
    "from itertools import product"
   ]
  },
  {
   "cell_type": "markdown",
   "id": "bddb86e8-d7c8-41d2-8fe1-95e2cc3e5ac6",
   "metadata": {},
   "source": [
    "Generate potential outcomes."
   ]
  },
  {
   "cell_type": "code",
   "execution_count": null,
   "id": "675f1522-c694-4e9f-be2a-9728b0fa8b76",
   "metadata": {},
   "outputs": [],
   "source": [
    "traps = list(range(1, 7))\n",
    "potential_outcomes = list(product(traps, traps, traps, traps, traps, traps))\n",
    "\n",
    "assert len(potential_outcomes) == 6**6\n",
    "assert potential_outcomes[0] == (1, 1, 1, 1, 1, 1)\n",
    "assert potential_outcomes[-1] == (6, 6, 6, 6, 6, 6)"
   ]
  },
  {
   "cell_type": "markdown",
   "id": "3cbca425-c36d-4e2c-b9f6-461016a8de5e",
   "metadata": {
    "jp-MarkdownHeadingCollapsed": true
   },
   "source": [
    "Determine markets."
   ]
  },
  {
   "cell_type": "code",
   "execution_count": null,
   "id": "15c0f2bf-f285-4162-826a-2c39f8341370",
   "metadata": {},
   "outputs": [],
   "source": [
    "def is_crowded_house(outcome):\n",
    "    return len(set(outcome)) == 6"
   ]
  },
  {
   "cell_type": "code",
   "execution_count": null,
   "id": "f9791307-01a8-436f-9e3d-80af2aff1266",
   "metadata": {},
   "outputs": [],
   "source": [
    "def is_threesome(outcome):\n",
    "    trap_counts = Counter(outcome)\n",
    "\n",
    "    counts = sorted(trap_counts.values(), reverse=True)\n",
    "\n",
    "    return counts[0] >= 3"
   ]
  },
  {
   "cell_type": "code",
   "execution_count": null,
   "id": "8f766d4c-f559-4cce-a6bb-b2c560c1c982",
   "metadata": {},
   "outputs": [],
   "source": [
    "def is_foursome(outcome):\n",
    "    trap_counts = Counter(outcome)\n",
    "\n",
    "    counts = sorted(trap_counts.values(), reverse=True)\n",
    "\n",
    "    return counts[0] >= 4"
   ]
  },
  {
   "cell_type": "code",
   "execution_count": null,
   "id": "386f3b9b-f48d-457b-b8b3-78a618cdb3de",
   "metadata": {},
   "outputs": [],
   "source": [
    "def is_five_up(outcome):\n",
    "    trap_counts = Counter(outcome)\n",
    "\n",
    "    counts = sorted(trap_counts.values(), reverse=True)\n",
    "\n",
    "    return counts[0] >= 5"
   ]
  },
  {
   "cell_type": "code",
   "execution_count": null,
   "id": "1c48f0e5-26a8-4551-98e0-dc5b6665186a",
   "metadata": {},
   "outputs": [],
   "source": [
    "def is_super_six(outcome):\n",
    "    return len(set(outcome)) == 1"
   ]
  },
  {
   "cell_type": "code",
   "execution_count": null,
   "id": "c7f11851-68d1-448d-935e-817f2a4eb0af",
   "metadata": {},
   "outputs": [],
   "source": [
    "def is_six_going_up(outcome):\n",
    "    return outcome == (1, 2, 3, 4, 5, 6)"
   ]
  },
  {
   "cell_type": "code",
   "execution_count": null,
   "id": "836b3e28-5a7d-483d-8516-65be7e9dfebc",
   "metadata": {},
   "outputs": [],
   "source": [
    "def is_six_coming_down(outcome):\n",
    "    return outcome == (6, 5, 4, 3, 2, 1)"
   ]
  },
  {
   "cell_type": "code",
   "execution_count": null,
   "id": "9aefb043-1094-4e39-b1af-fc72cb0d1d65",
   "metadata": {},
   "outputs": [],
   "source": [
    "def is_full_traps(outcome):\n",
    "    trap_counts = Counter(outcome)\n",
    "\n",
    "    counts = sorted(trap_counts.values(), reverse=True)\n",
    "\n",
    "    return counts[0] == 6 or (counts[0] == 4 and counts[1] == 2)"
   ]
  },
  {
   "cell_type": "code",
   "execution_count": null,
   "id": "e4aac60b-b630-4c00-9b56-b89fcf231c88",
   "metadata": {},
   "outputs": [],
   "source": [
    "def is_half_traps(outcome):\n",
    "    trap_counts = Counter(outcome)\n",
    "\n",
    "    counts = sorted(trap_counts.values(), reverse=True)\n",
    "\n",
    "    return counts[0] == 6 or (counts[0] == 3 and counts[1] == 3)"
   ]
  },
  {
   "cell_type": "code",
   "execution_count": null,
   "id": "3917681e-4cc5-44bd-ac10-43e57e811767",
   "metadata": {},
   "outputs": [],
   "source": [
    "def is_three_two(outcome):\n",
    "    trap_counts = Counter(outcome)\n",
    "\n",
    "    counts = sorted(trap_counts.values(), reverse=True)\n",
    "\n",
    "    return counts[0] >= 5 or (counts[0] >= 3 and counts[1] >= 2)"
   ]
  },
  {
   "cell_type": "markdown",
   "id": "d52bec25-35b2-46c0-81e8-f622280213de",
   "metadata": {},
   "source": [
    "Calculate probabilities."
   ]
  },
  {
   "cell_type": "code",
   "execution_count": null,
   "id": "9e5e9859-525e-41ff-991d-c55043934cce",
   "metadata": {},
   "outputs": [],
   "source": [
    "frequencies = {\n",
    "    \"crowded_house\": 0,\n",
    "    \"threesome\": 0,\n",
    "    \"foursome\": 0,\n",
    "    \"five_up\": 0,\n",
    "    \"super_six\": 0,\n",
    "    \"six_going_up\": 0,\n",
    "    \"six_coming_down\": 0,\n",
    "    \"full_traps\": 0,\n",
    "    \"half_traps\": 0,\n",
    "    \"three_two\": 0,\n",
    "}\n",
    "\n",
    "for outcome in potential_outcomes:\n",
    "    if is_crowded_house(outcome):\n",
    "        frequencies[\"crowded_house\"] += 1\n",
    "\n",
    "    if is_threesome(outcome):\n",
    "        frequencies[\"threesome\"] += 1\n",
    "\n",
    "    if is_foursome(outcome):\n",
    "        frequencies[\"foursome\"] += 1\n",
    "\n",
    "    if is_five_up(outcome):\n",
    "        frequencies[\"five_up\"] += 1\n",
    "\n",
    "    if is_super_six(outcome):\n",
    "        frequencies[\"super_six\"] += 1\n",
    "\n",
    "    if is_six_going_up(outcome):\n",
    "        frequencies[\"six_going_up\"] += 1\n",
    "\n",
    "    if is_six_coming_down(outcome):\n",
    "        frequencies[\"six_coming_down\"] += 1\n",
    "\n",
    "    if is_full_traps(outcome):\n",
    "        frequencies[\"full_traps\"] += 1\n",
    "\n",
    "    if is_half_traps(outcome):\n",
    "        frequencies[\"half_traps\"] += 1\n",
    "\n",
    "    if is_three_two(outcome):\n",
    "        frequencies[\"three_two\"] += 1"
   ]
  },
  {
   "cell_type": "code",
   "execution_count": null,
   "id": "c423eb40-df28-4b3d-916b-b5fd2a6092ea",
   "metadata": {},
   "outputs": [],
   "source": [
    "probabilities = {\n",
    "    market: frequency / len(potential_outcomes)\n",
    "    for market, frequency in frequencies.items()\n",
    "}"
   ]
  },
  {
   "cell_type": "code",
   "execution_count": null,
   "id": "6f4d3b1d-1f88-43d1-937a-26d41f002f35",
   "metadata": {},
   "outputs": [],
   "source": [
    "fair_prices = {market: 1 / probability for market, probability in probabilities.items()}"
   ]
  },
  {
   "cell_type": "code",
   "execution_count": null,
   "id": "4cd4f3a1-eebc-4726-9f14-90d790369852",
   "metadata": {},
   "outputs": [],
   "source": [
    "fair_prices"
   ]
  }
 ],
 "metadata": {
  "kernelspec": {
   "display_name": "Python 3 (ipykernel)",
   "language": "python",
   "name": "python3"
  },
  "language_info": {
   "codemirror_mode": {
    "name": "ipython",
    "version": 3
   },
   "file_extension": ".py",
   "mimetype": "text/x-python",
   "name": "python",
   "nbconvert_exporter": "python",
   "pygments_lexer": "ipython3",
   "version": "3.11.9"
  }
 },
 "nbformat": 4,
 "nbformat_minor": 5
}

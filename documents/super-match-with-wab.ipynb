{
 "cells": [
  {
   "cell_type": "markdown",
   "id": "e2ceeef1-156d-407f-9337-3a2aa48cb3f6",
   "metadata": {
    "tags": []
   },
   "source": [
    "# Super Match game"
   ]
  },
  {
   "cell_type": "markdown",
   "id": "0a74e5e6-cdef-45bc-8f3a-965f25de165d",
   "metadata": {},
   "source": [
    "Super Match involves betting on which trap will win in each of a sequence of 6 races.\n",
    "\n",
    "This betting market has two variants, a \"Win\" variant and a \"With A Break\" (place) variant. The players bets one stake for each variant. \n",
    "\n",
    "The player can bet one stake on either Win or With A Break or two stakes representing both Win and With A Break."
   ]
  },
  {
   "cell_type": "code",
   "execution_count": null,
   "id": "40d531f7-3810-4b07-a201-3d45482813b7",
   "metadata": {
    "tags": []
   },
   "outputs": [],
   "source": [
    "from itertools import product\n",
    "from math import comb"
   ]
  },
  {
   "cell_type": "code",
   "execution_count": null,
   "id": "17259012-d2c9-4b9d-91ea-6bc3989cdbdd",
   "metadata": {},
   "outputs": [],
   "source": [
    "RTP = 0.85"
   ]
  },
  {
   "cell_type": "code",
   "execution_count": null,
   "id": "ce8ee2ac-8daa-478b-b7e6-d5a2cc050213",
   "metadata": {
    "tags": []
   },
   "outputs": [],
   "source": [
    "def calculate_probabilities(counts):\n",
    "    probabilities = {}\n",
    "\n",
    "    for selection in counts:\n",
    "        probabilities[selection] = counts[selection] / 6**6\n",
    "\n",
    "    return probabilities"
   ]
  },
  {
   "cell_type": "markdown",
   "id": "edfe177d-2dca-4039-8fd1-c66476e913ef",
   "metadata": {},
   "source": [
    "## Potential outcomes"
   ]
  },
  {
   "cell_type": "markdown",
   "id": "567aefe3-b8a1-4eb5-8f1a-b44c9efdf2c5",
   "metadata": {},
   "source": [
    "Create list of all possible outcomes. There should be 6^6 (46656) outcomes."
   ]
  },
  {
   "cell_type": "code",
   "execution_count": null,
   "id": "20057e6b-d834-4e10-8fe8-91075287d353",
   "metadata": {
    "tags": []
   },
   "outputs": [],
   "source": [
    "traps = list(range(1, 7))\n",
    "potential_outcomes = list(product(traps, traps, traps, traps, traps, traps))\n",
    "\n",
    "print(len(potential_outcomes) == 6**6)\n",
    "print(potential_outcomes[:10])"
   ]
  },
  {
   "cell_type": "markdown",
   "id": "4d06574e-221d-478d-8816-a1e3998a4131",
   "metadata": {},
   "source": [
    "## Win variant"
   ]
  },
  {
   "attachments": {},
   "cell_type": "markdown",
   "id": "0daf0477-ea88-40a7-b69b-20f379066a41",
   "metadata": {},
   "source": [
    "Select a sequence of 6 numbers from 1 to 6.  To win, the result numbers drawn must be matched in the exact order contiguously.\n",
    "\n",
    "The result numbers are drawn sequentially."
   ]
  },
  {
   "cell_type": "code",
   "execution_count": null,
   "id": "afaf1140-0ec3-45dc-a9ba-0aa5f56a498b",
   "metadata": {},
   "outputs": [],
   "source": [
    "def count_contiguous_matching_sequences(selection, outcome, match_length):\n",
    "    matches = [\n",
    "        selection_trap == outcome_trap\n",
    "        for selection_trap, outcome_trap in zip(selection, outcome)\n",
    "    ]\n",
    "\n",
    "    current_sequence_length = 0\n",
    "    matching_sequence_count = 0\n",
    "\n",
    "    for trap_match in matches:\n",
    "        if trap_match:\n",
    "            current_sequence_length += 1\n",
    "        else:\n",
    "            current_sequence_length = 0\n",
    "\n",
    "        if current_sequence_length == match_length:\n",
    "            matching_sequence_count += 1\n",
    "\n",
    "            current_sequence_length = 0\n",
    "\n",
    "    return matching_sequence_count"
   ]
  },
  {
   "cell_type": "code",
   "execution_count": null,
   "id": "7feca6a4-4c13-4a69-a540-a1a2200480ea",
   "metadata": {
    "scrolled": true
   },
   "outputs": [],
   "source": [
    "selection = [1, 2, 3, 4, 5, 6]\n",
    "\n",
    "for match_length in range(6, 1, -1):\n",
    "    dividends = 0\n",
    "\n",
    "    for outcome in potential_outcomes:\n",
    "        dividends += count_contiguous_matching_sequences(\n",
    "            selection, outcome, match_length\n",
    "        )\n",
    "\n",
    "    expected_dividends = dividends / len(potential_outcomes)\n",
    "\n",
    "    print(\n",
    "        f\"Expected dividends on Match {match_length} (Win) is {expected_dividends:.8%} (price is {RTP/expected_dividends:.2f})\"\n",
    "    )"
   ]
  },
  {
   "cell_type": "markdown",
   "id": "cd6064b9-48d1-4744-aeec-64a1fd734f81",
   "metadata": {},
   "source": [
    "## With A Break variant"
   ]
  },
  {
   "cell_type": "markdown",
   "id": "2570c35e-34de-4089-bc2b-7f1491ab2a23",
   "metadata": {},
   "source": [
    "Select a sequence of 6 numbers from 1 to 6. To win, the result numbers drawn must be matched in the exact order but do not need to be contiguous.\n",
    "\n",
    "The result numbers are drawn sequentially."
   ]
  },
  {
   "cell_type": "code",
   "execution_count": null,
   "id": "a1c96f42-9932-4e4c-ab7f-6e3ec20cda11",
   "metadata": {},
   "outputs": [],
   "source": [
    "def count_non_contiguous_matching_sequences(selection, outcome, match_length):\n",
    "    match_count = len(\n",
    "        [\n",
    "            True\n",
    "            for selection_trap, outcome_trap in zip(selection, outcome)\n",
    "            if selection_trap == outcome_trap\n",
    "        ]\n",
    "    )\n",
    "\n",
    "    return comb(match_count, match_length)"
   ]
  },
  {
   "cell_type": "code",
   "execution_count": null,
   "id": "74194c51-1e76-4811-a350-031508e8cf9a",
   "metadata": {},
   "outputs": [],
   "source": [
    "selection = [1, 2, 3, 4, 5, 6]\n",
    "\n",
    "for match_length in range(6, 1, -1):\n",
    "    dividends = 0\n",
    "\n",
    "    for outcome in potential_outcomes:\n",
    "        dividends += count_non_contiguous_matching_sequences(\n",
    "            selection, outcome, match_length\n",
    "        )\n",
    "\n",
    "    expected_dividends = dividends / len(potential_outcomes)\n",
    "\n",
    "    print(\n",
    "        f\"Expected dividends on Match {match_length} (WAB) is {expected_dividends:.8%} (price is {RTP/expected_dividends:.2f})\"\n",
    "    )"
   ]
  }
 ],
 "metadata": {
  "kernelspec": {
   "display_name": "Python 3 (ipykernel)",
   "language": "python",
   "name": "python3"
  },
  "language_info": {
   "codemirror_mode": {
    "name": "ipython",
    "version": 3
   },
   "file_extension": ".py",
   "mimetype": "text/x-python",
   "name": "python",
   "nbconvert_exporter": "python",
   "pygments_lexer": "ipython3",
   "version": "3.11.9"
  }
 },
 "nbformat": 4,
 "nbformat_minor": 5
}

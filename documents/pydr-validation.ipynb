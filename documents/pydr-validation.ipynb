{
 "cells": [
  {
   "cell_type": "markdown",
   "id": "357f0629-6e02-4dcb-96fe-9a4c94ec7f03",
   "metadata": {},
   "source": [
    "# Play Your Dogs Right validation"
   ]
  },
  {
   "cell_type": "markdown",
   "id": "1e56e9ce-f361-40b9-8270-c58986fcbec3",
   "metadata": {},
   "source": [
    "Import the required libraries."
   ]
  },
  {
   "cell_type": "code",
   "execution_count": null,
   "id": "bba5305b-dfa9-4772-9919-eead211234df",
   "metadata": {},
   "outputs": [],
   "source": [
    "import random\n",
    "from itertools import product\n",
    "from pprint import pprint as pp"
   ]
  },
  {
   "cell_type": "markdown",
   "id": "6c0d6d05-2013-4e6a-b187-4672813ff826",
   "metadata": {},
   "source": [
    "Generate potential outcomes."
   ]
  },
  {
   "cell_type": "code",
   "execution_count": null,
   "id": "cb461222-71a7-4a4d-a9ba-90ff047be6e1",
   "metadata": {},
   "outputs": [],
   "source": [
    "traps = list(range(1, 7))\n",
    "potential_outcomes = list(product(traps, traps, traps, traps, traps, traps))\n",
    "\n",
    "assert len(potential_outcomes) == 6**6\n",
    "assert potential_outcomes[0] == (1, 1, 1, 1, 1, 1)\n",
    "assert potential_outcomes[-1] == (6, 6, 6, 6, 6, 6)"
   ]
  },
  {
   "cell_type": "markdown",
   "id": "98a49227-9a79-4877-a6b6-be5edbb5926c",
   "metadata": {},
   "source": [
    "Determines which group the player's bet belongs to."
   ]
  },
  {
   "cell_type": "code",
   "execution_count": null,
   "id": "c653c6b4-b2c8-4e34-9057-24deeaaf0106",
   "metadata": {},
   "outputs": [],
   "source": [
    "def get_longest_contiguous_sequence(selection):\n",
    "    current_sequence_length = 0\n",
    "    longest_sequence_length = 0\n",
    "\n",
    "    for i in range(len(selection)):\n",
    "        if i == 0 or selection[i] == selection[i - 1]:\n",
    "            current_sequence_length += 1\n",
    "        else:\n",
    "            if current_sequence_length > longest_sequence_length:\n",
    "                longest_sequence_length = current_sequence_length\n",
    "\n",
    "            current_sequence_length = 1\n",
    "\n",
    "    return max(longest_sequence_length, current_sequence_length)"
   ]
  },
  {
   "cell_type": "code",
   "execution_count": null,
   "id": "bc9e8a31-2848-4e23-a62d-313a1117b2c1",
   "metadata": {},
   "outputs": [],
   "source": [
    "def get_bet_group(selection):\n",
    "    return min(get_longest_contiguous_sequence(selection), 5)"
   ]
  },
  {
   "cell_type": "markdown",
   "id": "312abab4-4de3-4d52-aed1-942d617888ee",
   "metadata": {},
   "source": [
    "Calculate length of run."
   ]
  },
  {
   "cell_type": "code",
   "execution_count": null,
   "id": "023f5657-d3be-44c1-8dce-bbd40e181625",
   "metadata": {},
   "outputs": [],
   "source": [
    "def get_run_length(selection, outcome):\n",
    "    previous_trap = 3.5\n",
    "    result = 0\n",
    "\n",
    "    for i in range(len(selection)):\n",
    "        if (selection[i] == \"L\" and outcome[i] < previous_trap) or (\n",
    "            selection[i] == \"H\" and outcome[i] > previous_trap\n",
    "        ):\n",
    "            result += 1\n",
    "        elif i > 0:\n",
    "            break\n",
    "\n",
    "        previous_trap = outcome[i]\n",
    "\n",
    "    return result"
   ]
  },
  {
   "cell_type": "markdown",
   "id": "491ce891-a071-44dc-bef7-ee659779ba6f",
   "metadata": {},
   "source": [
    "Calculate dividend."
   ]
  },
  {
   "cell_type": "code",
   "execution_count": null,
   "id": "f210b678-2422-4757-ae39-7c9c127df36b",
   "metadata": {},
   "outputs": [],
   "source": [
    "def get_dividend(bet_group, run_length):\n",
    "    match bet_group, run_length:\n",
    "        case 1, 6:\n",
    "            return 8\n",
    "        case 1, 5:\n",
    "            return 5\n",
    "        case 1, 4:\n",
    "            return 3\n",
    "        case 1, 3:\n",
    "            return 2\n",
    "        case 2, 6:\n",
    "            return 13\n",
    "        case 2, 5:\n",
    "            return 5\n",
    "        case 2, 4:\n",
    "            return 3\n",
    "        case 2, 3:\n",
    "            return 2\n",
    "        case 3, 6:\n",
    "            return 40\n",
    "        case 3, 5:\n",
    "            return 9\n",
    "        case 3, 4:\n",
    "            return 3\n",
    "        case 3, 3:\n",
    "            return 2\n",
    "        case 4, 6:\n",
    "            return 400\n",
    "        case 4, 5:\n",
    "            return 30\n",
    "        case 4, 4:\n",
    "            return 5\n",
    "        case 4, 3:\n",
    "            return 2\n",
    "        case 5, 6:\n",
    "            return 10_000\n",
    "        case 5, 5:\n",
    "            return 250\n",
    "        case 5, 4:\n",
    "            return 20\n",
    "        case 5, 3:\n",
    "            return 3\n",
    "        case _:\n",
    "            return 0"
   ]
  },
  {
   "cell_type": "markdown",
   "id": "1f8ffc30-cb3c-48d5-9efb-0181d7b2bcfa",
   "metadata": {},
   "source": [
    "Calculate RTP."
   ]
  },
  {
   "cell_type": "code",
   "execution_count": null,
   "id": "1bb579b2-1c29-4fdb-9b7f-e75df9bfe925",
   "metadata": {},
   "outputs": [],
   "source": [
    "def calculate_rtp(selection):\n",
    "    bet_group = get_bet_group(selection)\n",
    "\n",
    "    total_dividends = 0\n",
    "\n",
    "    for outcome in potential_outcomes:\n",
    "        run_length = get_run_length(selection, outcome)\n",
    "        total_dividends += get_dividend(bet_group, run_length)\n",
    "\n",
    "    return total_dividends / len(potential_outcomes)"
   ]
  },
  {
   "cell_type": "markdown",
   "id": "a9ad68c2-6bbb-42ce-88b3-488c72429801",
   "metadata": {},
   "source": [
    "Create all possible selections."
   ]
  },
  {
   "cell_type": "code",
   "execution_count": null,
   "id": "d0d3ff0c-92dd-4065-8f9c-a260d0aee0a7",
   "metadata": {},
   "outputs": [],
   "source": [
    "options = [\"L\", \"H\"]\n",
    "\n",
    "selections = [\n",
    "    \"\".join(selection)\n",
    "    for selection in product(options, options, options, options, options, options)\n",
    "]\n",
    "\n",
    "assert len(selections) == 64\n",
    "assert selections[0] == \"LLLLLL\"\n",
    "assert selections[-1] == \"HHHHHH\""
   ]
  },
  {
   "cell_type": "markdown",
   "id": "c042bf72-ebe7-4be5-8eab-f7c9e1e16273",
   "metadata": {},
   "source": [
    "Calculate RTPs for all selections, and sort by descending RTP."
   ]
  },
  {
   "cell_type": "code",
   "execution_count": null,
   "id": "fb1e04c4-b7b5-4e07-9818-19f8afb88073",
   "metadata": {},
   "outputs": [],
   "source": [
    "rtps = sorted(\n",
    "    [(selection, calculate_rtp(selection) * 100) for selection in selections],\n",
    "    key=lambda x: x[1],\n",
    "    reverse=True,\n",
    ")"
   ]
  },
  {
   "cell_type": "markdown",
   "id": "6f898cb3-8e25-4c74-9d9b-0ec92ac39988",
   "metadata": {},
   "source": [
    "Display all RTPs (for all selections)."
   ]
  },
  {
   "cell_type": "code",
   "execution_count": null,
   "id": "7cf6dbee-17f2-4451-a80e-a0d8f7e44ca6",
   "metadata": {},
   "outputs": [],
   "source": [
    "for selection, rtp in rtps:\n",
    "    print(f\"RTP for selection {selection} = {rtp:.1f}\")"
   ]
  },
  {
   "cell_type": "markdown",
   "id": "c4526e65-7ac7-40de-8369-752a1ec39d3b",
   "metadata": {},
   "source": [
    "Perform consistency checks with Lisa's numbers"
   ]
  },
  {
   "cell_type": "code",
   "execution_count": null,
   "id": "acb36811-e018-4bb5-ba7b-9dc63d35c798",
   "metadata": {},
   "outputs": [],
   "source": [
    "def get_bet_group_selections(selections, bet_group):\n",
    "    return [\n",
    "        selection for selection in selections if get_bet_group(selection) == bet_group\n",
    "    ]"
   ]
  },
  {
   "cell_type": "code",
   "execution_count": null,
   "id": "048418b6-b112-41d4-8623-a88584581b43",
   "metadata": {},
   "outputs": [],
   "source": [
    "group_1_rtps = sorted(\n",
    "    [\n",
    "        (selection, calculate_rtp(selection) * 100)\n",
    "        for selection in get_bet_group_selections(selections, 1)\n",
    "    ],\n",
    "    key=lambda x: x[1],\n",
    "    reverse=True,\n",
    ")"
   ]
  },
  {
   "cell_type": "code",
   "execution_count": null,
   "id": "6238241f-edee-4ca2-9cf5-9225f2c1e3fb",
   "metadata": {},
   "outputs": [],
   "source": [
    "assert round(group_1_rtps[0][1], 2) == 85.16"
   ]
  },
  {
   "cell_type": "code",
   "execution_count": null,
   "id": "8dbf786c-5326-412b-8ab7-ebb2fa039ee6",
   "metadata": {},
   "outputs": [],
   "source": [
    "group_2_rtps = sorted(\n",
    "    [\n",
    "        (selection, calculate_rtp(selection) * 100)\n",
    "        for selection in get_bet_group_selections(selections, 2)\n",
    "    ],\n",
    "    key=lambda x: x[1],\n",
    "    reverse=True,\n",
    ")"
   ]
  },
  {
   "cell_type": "code",
   "execution_count": null,
   "id": "9eeb0efe-e7f3-4fa0-9491-50af0940d0c1",
   "metadata": {
    "scrolled": true
   },
   "outputs": [],
   "source": [
    "assert group_2_rtps[0][0] == \"LHLHLL\"\n",
    "assert round(group_2_rtps[0][1], 2) == 85.25"
   ]
  },
  {
   "cell_type": "code",
   "execution_count": null,
   "id": "14688ca7-af88-437d-8c2a-84e394ca855e",
   "metadata": {},
   "outputs": [],
   "source": [
    "group_3_rtps = sorted(\n",
    "    [\n",
    "        (selection, calculate_rtp(selection) * 100)\n",
    "        for selection in get_bet_group_selections(selections, 3)\n",
    "    ],\n",
    "    key=lambda x: x[1],\n",
    "    reverse=True,\n",
    ")"
   ]
  },
  {
   "cell_type": "code",
   "execution_count": null,
   "id": "c2b3acde-6755-41a6-96c7-1f68d2d897b8",
   "metadata": {},
   "outputs": [],
   "source": [
    "assert group_3_rtps[0][0] == \"LHLHHH\"\n",
    "assert group_3_rtps[-2][0] == \"LLLHHH\"\n",
    "assert round(group_3_rtps[-2][1], 2) == 18.35\n",
    "assert group_3_rtps[-1][0] == \"HHHLLL\""
   ]
  }
 ],
 "metadata": {
  "kernelspec": {
   "display_name": "Python 3 (ipykernel)",
   "language": "python",
   "name": "python3"
  },
  "language_info": {
   "codemirror_mode": {
    "name": "ipython",
    "version": 3
   },
   "file_extension": ".py",
   "mimetype": "text/x-python",
   "name": "python",
   "nbconvert_exporter": "python",
   "pygments_lexer": "ipython3",
   "version": "3.11.9"
  }
 },
 "nbformat": 4,
 "nbformat_minor": 5
}

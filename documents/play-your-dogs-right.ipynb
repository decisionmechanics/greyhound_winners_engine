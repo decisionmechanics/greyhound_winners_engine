{
 "cells": [
  {
   "cell_type": "markdown",
   "id": "a2ed9135-5ee9-4a95-ae4c-3d7f80664ffd",
   "metadata": {},
   "source": [
    "# Play Your Dogs Right game"
   ]
  },
  {
   "cell_type": "markdown",
   "id": "7039277d-6711-4936-8041-e734dcea9a57",
   "metadata": {},
   "source": [
    "This game involves the player betting on whether the winning trap number in a sequence of six races is 'Higher or Lower' than the previous race, based on a starting number of 3.5.\n",
    "\n",
    "The bet requires the player to determine whether, for each race, the winning trap number was higher or lower than the previous trap number. An example of a selection might be “HLHLHL”. The first result is evaluated assuming that the previous trap number was 3.5 (so it must be either higher or lower—equal is not possible when comparing the first trap).\n",
    "\n",
    "The player is paid a dividend according to the length of the run they predict. So, if the race results are 1, 2, 3, 4, 5, 6 and the player selects, LHHLHH, then they match a run of three.\n",
    "\n",
    "If the player fails to correctly predict whether the _first_ trap is $$3.5 or $$3.5, then an attempt is made to match the remainder of the traps. The player is given a “pass” for an _inital_ mistake, but it doesn’t count to the matched sequence length. For example,  if the race results are 1, 2, 3, 4, 5, 6, and the player selects HHHLHH, then they match a run of two. Note that the pass only applies to the _first_ trap.\n",
    "\n",
    "There is a variation, allowing the player to bet on a ‘Double Chance’. The Double Chance market involves the player paying a double stake to buy insurance against making a single mistake in their prediction for any of races 2, 3, 4 and 5. If the player fails correctly to predict Higher or Lower in any of these races, the Double Chance insurance kicks in and ensures a run continues as though the wrong prediction didn’t happen. The wrong prediction does not count towards the run length.\n",
    "\n",
    "Double Chance insurance can only be applied once per game, and is only applied to races 2 thru’ 5. If the insurance element of the stake is not applied the stake is not returned.\n",
    "\n",
    "The win market dividends are:\n",
    "\n",
    "| Run | Dividend |\n",
    "| --: | -------: |\n",
    "| 6   | 10       |\n",
    "| 5   | 5        |\n",
    "| 4   | 3        |\n",
    "| 3   | 1        |\n",
    "\n",
    "The Double Chance dividends are:\n",
    "\n",
    "| Run | Dividend |\n",
    "| --: | -------: |\n",
    "| 6   | 12       |\n",
    "| 5   | 7        |\n",
    "| 4   | 5        |\n",
    "| 3   | 2        |"
   ]
  },
  {
   "cell_type": "markdown",
   "id": "c4dace7a-bf80-4ec8-84bb-6cff3b4dc542",
   "metadata": {},
   "source": [
    "## Configuration"
   ]
  },
  {
   "cell_type": "code",
   "execution_count": null,
   "id": "b4897b1a-5b6a-443b-81cf-ccfb6ae95a61",
   "metadata": {},
   "outputs": [],
   "source": [
    "import random\n",
    "from itertools import product\n",
    "from pprint import pprint as pp"
   ]
  },
  {
   "cell_type": "markdown",
   "id": "9aa91342-d982-4056-b714-8d148bc896af",
   "metadata": {},
   "source": [
    "## Potential outcomes"
   ]
  },
  {
   "cell_type": "markdown",
   "id": "7e2dfedf-2b80-4ffe-a7a3-bb6bffb46dbb",
   "metadata": {},
   "source": [
    "Generate all 46656 possible outcomes."
   ]
  },
  {
   "cell_type": "code",
   "execution_count": null,
   "id": "8ef41355-7feb-417a-b2dc-969fb7de96b5",
   "metadata": {},
   "outputs": [],
   "source": [
    "traps = list(range(1, 7))\n",
    "potential_outcomes = list(product(traps, traps, traps, traps, traps, traps))\n",
    "\n",
    "assert len(potential_outcomes) == 6**6\n",
    "\n",
    "pp(potential_outcomes[:5])\n",
    "pp(potential_outcomes[-5:])\n",
    "pp(random.sample(potential_outcomes, 5))"
   ]
  },
  {
   "cell_type": "markdown",
   "id": "9d66c703-cf55-494a-adcb-e7879c128a7e",
   "metadata": {},
   "source": [
    "## Settlement"
   ]
  },
  {
   "cell_type": "code",
   "execution_count": null,
   "id": "d383f215-2fc5-496a-80c9-fd7051a99aef",
   "metadata": {},
   "outputs": [],
   "source": [
    "def get_run_length(outcome, selection, insured=False):\n",
    "    previous_trap = 3.5\n",
    "    insurance_available = insured\n",
    "    run_length = 0\n",
    "\n",
    "    for index, (trap, choice) in enumerate(zip(outcome, selection)):\n",
    "        correct_choice = (choice == \"L\" and trap < previous_trap) or (\n",
    "            choice == \"H\" and trap > previous_trap\n",
    "        )\n",
    "\n",
    "        previous_trap = trap\n",
    "\n",
    "        if correct_choice:\n",
    "            run_length += 1\n",
    "\n",
    "            continue\n",
    "\n",
    "        if index == 0:\n",
    "            continue\n",
    "\n",
    "        if insurance_available:\n",
    "            insurance_available = False\n",
    "\n",
    "            continue\n",
    "\n",
    "        break\n",
    "\n",
    "    return run_length"
   ]
  },
  {
   "cell_type": "code",
   "execution_count": null,
   "id": "3dbecb72-743a-43d4-be54-a10f4ebbc85d",
   "metadata": {},
   "outputs": [],
   "source": [
    "assert get_run_length((1, 2, 3, 4, 5, 6), \"LHLHLL\", insured=True) == 3\n",
    "assert get_run_length((1, 2, 3, 4, 5, 6), \"HHHLHH\", insured=True) == 4\n",
    "assert get_run_length((1, 2, 3, 4, 5, 6), \"HLHHLH\", insured=True) == 2"
   ]
  },
  {
   "cell_type": "markdown",
   "id": "f4a39e8f-936d-4004-951d-7187d0039dd5",
   "metadata": {},
   "source": [
    "## Simulation"
   ]
  },
  {
   "cell_type": "code",
   "execution_count": null,
   "id": "a964ab93-2542-4503-84fc-386e0f66c1e8",
   "metadata": {},
   "outputs": [],
   "source": [
    "def simulate(selection, insured=False):\n",
    "    assert set(selection) == {\"H\", \"L\"}\n",
    "\n",
    "    run_length_frequencies = {}\n",
    "\n",
    "    for outcome in potential_outcomes:\n",
    "        run_length = get_run_length(outcome, selection, insured)\n",
    "\n",
    "        run_length_frequencies[run_length] = (\n",
    "            run_length_frequencies.get(run_length, 0) + 1\n",
    "        )\n",
    "\n",
    "    assert sum(run_length_frequencies.values()) == 6**6\n",
    "\n",
    "    run_length_probabilities = {\n",
    "        run_length: run_length_frequencies.get(run_length, 0) / 6**6\n",
    "        for run_length in range(0, 7)\n",
    "    }\n",
    "\n",
    "    assert abs(1 - sum(run_length_probabilities.values())) < 1e-9\n",
    "\n",
    "    return run_length_probabilities"
   ]
  },
  {
   "cell_type": "markdown",
   "id": "2958a25a-b32c-417a-a223-a3cc62dc26d4",
   "metadata": {},
   "source": [
    "## Optimal strategy"
   ]
  },
  {
   "cell_type": "code",
   "execution_count": null,
   "id": "31d0341e-aeaf-4e1f-bbf8-2e840a5f5e29",
   "metadata": {},
   "outputs": [],
   "source": [
    "optimal_selection = \"HLHLHL\""
   ]
  },
  {
   "cell_type": "markdown",
   "id": "7ad928c1-090b-4f30-b7e7-04fbae8c9e74",
   "metadata": {},
   "source": [
    "## Win market"
   ]
  },
  {
   "cell_type": "code",
   "execution_count": null,
   "id": "2379eefb-6474-4007-bafc-a0b3db7704b9",
   "metadata": {},
   "outputs": [],
   "source": [
    "win_probabilities = simulate(optimal_selection)\n",
    "\n",
    "win_probabilities"
   ]
  },
  {
   "cell_type": "markdown",
   "id": "f9367905-35f0-4de2-b777-c5b829351147",
   "metadata": {},
   "source": [
    "## Insured market"
   ]
  },
  {
   "cell_type": "code",
   "execution_count": null,
   "id": "7f16bc73-dcca-4e04-b8ac-e3ff9473f40b",
   "metadata": {},
   "outputs": [],
   "source": [
    "insured_probabilities = simulate(optimal_selection, insured=True)\n",
    "\n",
    "insured_probabilities"
   ]
  },
  {
   "cell_type": "markdown",
   "id": "e71f0acd-8bec-497e-818c-a645d771548b",
   "metadata": {},
   "source": [
    "## Expected RTP"
   ]
  },
  {
   "cell_type": "markdown",
   "id": "a770d6af-f44d-41dd-85aa-9254311c0202",
   "metadata": {},
   "source": [
    "The prices offered on the various run lengths are:"
   ]
  },
  {
   "cell_type": "markdown",
   "id": "98006be4-c68d-4be1-be13-23bf3321a82f",
   "metadata": {},
   "source": [
    "The expected RTP for a win bet is:"
   ]
  },
  {
   "cell_type": "code",
   "execution_count": null,
   "id": "9b609585-11cf-4b43-9a8f-b25046ede747",
   "metadata": {},
   "outputs": [],
   "source": [
    "win_dividends = {6: 10, 5: 5, 4: 3, 3: 1}"
   ]
  },
  {
   "cell_type": "code",
   "execution_count": null,
   "id": "8271bea5-259e-4737-ae83-52e3d2f70056",
   "metadata": {},
   "outputs": [],
   "source": [
    "sum(\n",
    "    win_probabilities.get(run_length, 0) * win_dividends.get(run_length, 0)\n",
    "    for run_length in range(0, 7)\n",
    ")"
   ]
  },
  {
   "cell_type": "markdown",
   "id": "323f61a5-37f9-4d6e-9812-a6db4d890faa",
   "metadata": {},
   "source": [
    "The expected RTP for a Double Chance bet is:"
   ]
  },
  {
   "cell_type": "code",
   "execution_count": null,
   "id": "42511ad2-2389-4b57-9bc0-03b2607ecf3c",
   "metadata": {},
   "outputs": [],
   "source": [
    "double_chance_dividends = {6: 12, 5: 7, 4: 5, 3: 2}"
   ]
  },
  {
   "cell_type": "code",
   "execution_count": null,
   "id": "dd7fec2d-9a3e-4d9f-9d16-4cc1ef1a0d70",
   "metadata": {},
   "outputs": [],
   "source": [
    "sum(\n",
    "    insured_probabilities.get(run_length, 0) * double_chance_dividends.get(run_length, 0)\n",
    "    for run_length in range(0, 7)\n",
    ") / 2"
   ]
  }
 ],
 "metadata": {
  "kernelspec": {
   "display_name": "Python 3 (ipykernel)",
   "language": "python",
   "name": "python3"
  },
  "language_info": {
   "codemirror_mode": {
    "name": "ipython",
    "version": 3
   },
   "file_extension": ".py",
   "mimetype": "text/x-python",
   "name": "python",
   "nbconvert_exporter": "python",
   "pygments_lexer": "ipython3",
   "version": "3.11.9"
  }
 },
 "nbformat": 4,
 "nbformat_minor": 5
}

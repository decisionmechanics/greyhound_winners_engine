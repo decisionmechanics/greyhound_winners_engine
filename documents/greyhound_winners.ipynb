{
 "cells": [
  {
   "cell_type": "markdown",
   "id": "e2ceeef1-156d-407f-9337-3a2aa48cb3f6",
   "metadata": {},
   "source": [
    "# Simulation of Greyhound Winner markets"
   ]
  },
  {
   "cell_type": "code",
   "execution_count": null,
   "id": "40d531f7-3810-4b07-a201-3d45482813b7",
   "metadata": {},
   "outputs": [],
   "source": [
    "from itertools import product"
   ]
  },
  {
   "cell_type": "code",
   "execution_count": null,
   "id": "ce8ee2ac-8daa-478b-b7e6-d5a2cc050213",
   "metadata": {},
   "outputs": [],
   "source": [
    "def calculate_probabilities(counts):\n",
    "    probabilities = {}\n",
    "    \n",
    "    for selection in counts:\n",
    "        probabilities[selection] = counts[selection] / 6**6\n",
    "        \n",
    "    return probabilities"
   ]
  },
  {
   "cell_type": "markdown",
   "id": "edfe177d-2dca-4039-8fd1-c66476e913ef",
   "metadata": {},
   "source": [
    "## Potential outcomes"
   ]
  },
  {
   "cell_type": "markdown",
   "id": "567aefe3-b8a1-4eb5-8f1a-b44c9efdf2c5",
   "metadata": {},
   "source": [
    "Create list of all possible outcomes. There should be 6^6 (46656) outcomes."
   ]
  },
  {
   "cell_type": "code",
   "execution_count": null,
   "id": "20057e6b-d834-4e10-8fe8-91075287d353",
   "metadata": {},
   "outputs": [],
   "source": [
    "traps = list(range(1, 7))\n",
    "potential_outcomes = list(product(traps, traps, traps, traps, traps, traps))\n",
    "\n",
    "print(len(potential_outcomes) == 6**6)\n",
    "print(potential_outcomes[:10])"
   ]
  },
  {
   "cell_type": "markdown",
   "id": "cd6064b9-48d1-4744-aeec-64a1fd734f81",
   "metadata": {},
   "source": [
    "## Match market"
   ]
  },
  {
   "cell_type": "code",
   "execution_count": null,
   "id": "86fea5d2-7b26-4c02-9d23-7a700d540d63",
   "metadata": {},
   "outputs": [],
   "source": [
    "def get_matching_sequences(outcome1, outcome2):\n",
    "    matching_sequences = []\n",
    "\n",
    "    matching_sequence = []\n",
    "\n",
    "    for index in range(0, len(outcome1)):\n",
    "        if outcome1[index] == outcome2[index]:\n",
    "            matching_sequence.append(outcome1[index])\n",
    "        elif matching_sequence:\n",
    "            matching_sequences.append(matching_sequence)\n",
    "            matching_sequence = []\n",
    "\n",
    "    if matching_sequence:\n",
    "        matching_sequences.append(matching_sequence)\n",
    "\n",
    "    return matching_sequences\n",
    "\n",
    "\n",
    "def count_match_market_wins(sample_outcome):\n",
    "    win_counts = {1: 0, 2: 0, 3: 0, 4: 0, 5: 0, 6: 0}\n",
    "\n",
    "    for potential_outcome in potential_outcomes:\n",
    "        matching_sequences = get_matching_sequences(potential_outcome, sample_outcome)\n",
    "\n",
    "        for matching_sequence in matching_sequences:\n",
    "            win_counts[len(matching_sequence)] += 1\n",
    "\n",
    "    return win_counts"
   ]
  },
  {
   "cell_type": "code",
   "execution_count": null,
   "id": "635e5f93-e351-42d9-9aa4-dc89ad51d4b9",
   "metadata": {},
   "outputs": [],
   "source": [
    "print(count_match_market_wins([1, 2, 3, 4, 5, 6]))\n",
    "print(count_match_market_wins([1] * 6))"
   ]
  },
  {
   "cell_type": "code",
   "execution_count": null,
   "id": "c56dffae-2718-455a-942e-565849399d20",
   "metadata": {},
   "outputs": [],
   "source": [
    "calculate_probabilities(count_match_market_wins([1, 2, 3, 4, 5, 6]))"
   ]
  },
  {
   "cell_type": "markdown",
   "id": "537f4f59-6306-473c-9e52-10065865268d",
   "metadata": {},
   "source": [
    "## High/Low market"
   ]
  },
  {
   "cell_type": "code",
   "execution_count": null,
   "id": "8821edf4-df53-4003-b6b9-c1398de68833",
   "metadata": {},
   "outputs": [],
   "source": [
    "def count_high_low_market_wins():\n",
    "    win_counts = {\n",
    "        \"high\": 0,\n",
    "        \"low\": 0,\n",
    "        \"equal\": 0,\n",
    "    }\n",
    "    \n",
    "    for potential_outcome in potential_outcomes:\n",
    "        high_trap_count = sum([trap > 3 for trap in potential_outcome])\n",
    "        \n",
    "        if high_trap_count > 3:\n",
    "            win_counts[\"high\"] += 1\n",
    "        elif high_trap_count < 3:\n",
    "            win_counts[\"low\"] += 1\n",
    "        else:\n",
    "            win_counts[\"equal\"] += 1\n",
    "            \n",
    "    return win_counts"
   ]
  },
  {
   "cell_type": "code",
   "execution_count": null,
   "id": "8baf02ce-7117-45fc-b534-219279c7606c",
   "metadata": {},
   "outputs": [],
   "source": [
    "count_high_low_market_wins()"
   ]
  },
  {
   "cell_type": "code",
   "execution_count": null,
   "id": "0cd00847-0339-4f3a-897b-475d13ada349",
   "metadata": {},
   "outputs": [],
   "source": [
    "calculate_probabilities(count_high_low_market_wins())"
   ]
  },
  {
   "cell_type": "markdown",
   "id": "9652e4d9-ad0a-4273-82a2-db1385b0e168",
   "metadata": {},
   "source": [
    "## Odd/Even market"
   ]
  },
  {
   "cell_type": "code",
   "execution_count": null,
   "id": "8acbbc61-829d-4172-8c34-da0597180857",
   "metadata": {},
   "outputs": [],
   "source": [
    "def count_odd_even_market_wins():\n",
    "    win_counts = {\n",
    "        \"odd\": 0,\n",
    "        \"even\": 0,\n",
    "        \"equal\": 0,\n",
    "    }\n",
    "\n",
    "    for potential_outcome in potential_outcomes:\n",
    "        odd_trap_count = sum([trap % 2 for trap in potential_outcome])\n",
    "\n",
    "        if odd_trap_count > 3:\n",
    "            win_counts[\"odd\"] += 1\n",
    "        elif odd_trap_count < 3:\n",
    "            win_counts[\"even\"] += 1\n",
    "        else:\n",
    "            win_counts[\"equal\"] += 1\n",
    "\n",
    "    return win_counts"
   ]
  },
  {
   "cell_type": "code",
   "execution_count": null,
   "id": "d71915fd-81d7-4e88-bf68-bb12c0192f39",
   "metadata": {},
   "outputs": [],
   "source": [
    "count_odd_even_market_wins()"
   ]
  },
  {
   "cell_type": "code",
   "execution_count": null,
   "id": "40f664d1-5462-45e3-8144-1803979172fd",
   "metadata": {},
   "outputs": [],
   "source": [
    "calculate_probabilities(count_odd_even_market_wins())"
   ]
  },
  {
   "cell_type": "markdown",
   "id": "50ae4921-cb01-49da-9677-7a00e05da2f3",
   "metadata": {},
   "source": [
    "## Trap Most market"
   ]
  },
  {
   "cell_type": "code",
   "execution_count": null,
   "id": "e600f6e3-7935-4a85-bf2c-a74d0c895a3e",
   "metadata": {},
   "outputs": [],
   "source": [
    "def calculate_mode(values):\n",
    "    counts = {}\n",
    "\n",
    "    if not values:\n",
    "        return []\n",
    "    \n",
    "    for value in values:\n",
    "        counts[value] = counts.get(value, 0) + 1\n",
    "\n",
    "    sorted_counts = sorted(counts.items(), key=lambda item: -item[1])\n",
    "\n",
    "    return sorted([value for value, count in sorted_counts if count == sorted_counts[0][1]])\n",
    "\n",
    "\n",
    "def count_trap_most_market_wins():\n",
    "    win_counts = {\n",
    "        \"none\": 0,\n",
    "        1: 0,\n",
    "        2: 0,\n",
    "        3: 0,\n",
    "        4: 0,\n",
    "        5: 0,\n",
    "        6: 0,\n",
    "    }\n",
    "\n",
    "    for potential_outcome in potential_outcomes:\n",
    "        mode = calculate_mode(potential_outcome)\n",
    "        \n",
    "        if len(mode) == 1:\n",
    "            win_counts[mode[0]] += 1\n",
    "        else:\n",
    "            win_counts[\"none\"] += 1\n",
    "\n",
    "    return win_counts"
   ]
  },
  {
   "cell_type": "code",
   "execution_count": null,
   "id": "cbc24df7-33d4-4f29-9ca6-ef4ce851749a",
   "metadata": {},
   "outputs": [],
   "source": [
    "count_trap_most_market_wins()"
   ]
  },
  {
   "cell_type": "code",
   "execution_count": null,
   "id": "d47a2ccd-1e70-48d8-ae5e-6789a8964d59",
   "metadata": {},
   "outputs": [],
   "source": [
    "calculate_probabilities(count_trap_most_market_wins())"
   ]
  },
  {
   "cell_type": "markdown",
   "id": "e458d024-1411-454b-a5f8-8a1272098847",
   "metadata": {},
   "source": [
    "## Trap Most Any market"
   ]
  },
  {
   "cell_type": "code",
   "execution_count": null,
   "id": "4da9cd28-870b-4666-957b-8040d438ff97",
   "metadata": {},
   "outputs": [],
   "source": [
    "def count_trap_most_any_market_wins():\n",
    "    win_counts = {\n",
    "        \"none\": 0,\n",
    "        \"any\": 0,\n",
    "    }\n",
    "\n",
    "    for potential_outcome in potential_outcomes:\n",
    "        mode = calculate_mode(potential_outcome)\n",
    "\n",
    "        if len(mode) == 1:\n",
    "            win_counts[\"any\"] += 1\n",
    "        else:\n",
    "            win_counts[\"none\"] += 1\n",
    "\n",
    "    return win_counts"
   ]
  },
  {
   "cell_type": "code",
   "execution_count": null,
   "id": "af5ce129-c433-43e8-aa06-d9b65ad91ed6",
   "metadata": {},
   "outputs": [],
   "source": [
    "count_trap_most_any_market_wins()"
   ]
  },
  {
   "cell_type": "code",
   "execution_count": null,
   "id": "a2c98bcd-4676-46a7-a4ab-0f1ea7c020a6",
   "metadata": {},
   "outputs": [],
   "source": [
    "calculate_probabilities(count_trap_most_any_market_wins())"
   ]
  }
 ],
 "metadata": {
  "kernelspec": {
   "display_name": "Python 3 (ipykernel)",
   "language": "python",
   "name": "python3"
  },
  "language_info": {
   "codemirror_mode": {
    "name": "ipython",
    "version": 3
   },
   "file_extension": ".py",
   "mimetype": "text/x-python",
   "name": "python",
   "nbconvert_exporter": "python",
   "pygments_lexer": "ipython3",
   "version": "3.10.5"
  }
 },
 "nbformat": 4,
 "nbformat_minor": 5
}

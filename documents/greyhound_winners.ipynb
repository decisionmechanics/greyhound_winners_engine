{
 "cells": [
  {
   "cell_type": "markdown",
   "id": "e2ceeef1-156d-407f-9337-3a2aa48cb3f6",
   "metadata": {
    "tags": []
   },
   "source": [
    "# Simulation of Greyhound Winner markets"
   ]
  },
  {
   "cell_type": "code",
   "execution_count": null,
   "id": "40d531f7-3810-4b07-a201-3d45482813b7",
   "metadata": {
    "tags": []
   },
   "outputs": [],
   "source": [
    "from collections import Counter\n",
    "from itertools import combinations, permutations, product\n",
    "from math import factorial"
   ]
  },
  {
   "cell_type": "code",
   "execution_count": null,
   "id": "b035f605-02a3-40fa-9770-1d5a9c2f61ce",
   "metadata": {},
   "outputs": [],
   "source": [
    "def nPr(n, r):\n",
    "    return int(factorial(n) / factorial(n - r))"
   ]
  },
  {
   "cell_type": "code",
   "execution_count": null,
   "id": "8bedf928-c1c8-4a01-a039-ff741d8c7451",
   "metadata": {},
   "outputs": [],
   "source": [
    "def nCr(n, r):\n",
    "    return int(factorial(n) / factorial(n - r)) / factorial(r)"
   ]
  },
  {
   "cell_type": "code",
   "execution_count": null,
   "id": "474a079e-d5d0-4de3-982b-f6c4e96ebc9f",
   "metadata": {},
   "outputs": [],
   "source": [
    "def calculate_fair_prices(counts):\n",
    "    returns_to_player = {}\n",
    "\n",
    "    for selection in counts:\n",
    "        returns_to_player[selection] = 1 / (counts[selection] / 6**6)\n",
    "\n",
    "    return returns_to_player"
   ]
  },
  {
   "cell_type": "code",
   "execution_count": null,
   "id": "ce8ee2ac-8daa-478b-b7e6-d5a2cc050213",
   "metadata": {},
   "outputs": [],
   "source": [
    "def calculate_probabilities(counts):\n",
    "    probabilities = {}\n",
    "\n",
    "    for selection in counts:\n",
    "        probabilities[selection] = counts[selection] / 6**6\n",
    "\n",
    "    return probabilities"
   ]
  },
  {
   "cell_type": "markdown",
   "id": "edfe177d-2dca-4039-8fd1-c66476e913ef",
   "metadata": {},
   "source": [
    "## Potential outcomes"
   ]
  },
  {
   "cell_type": "markdown",
   "id": "567aefe3-b8a1-4eb5-8f1a-b44c9efdf2c5",
   "metadata": {},
   "source": [
    "Create list of all possible outcomes. There should be 6^6 (46656) outcomes."
   ]
  },
  {
   "cell_type": "code",
   "execution_count": null,
   "id": "20057e6b-d834-4e10-8fe8-91075287d353",
   "metadata": {},
   "outputs": [],
   "source": [
    "traps = list(range(1, 7))\n",
    "potential_outcomes = list(product(traps, traps, traps, traps, traps, traps))\n",
    "\n",
    "print(len(potential_outcomes) == 6**6)\n",
    "print(potential_outcomes[:10])"
   ]
  },
  {
   "cell_type": "markdown",
   "id": "cd6064b9-48d1-4744-aeec-64a1fd734f81",
   "metadata": {},
   "source": [
    "## Match market"
   ]
  },
  {
   "cell_type": "code",
   "execution_count": null,
   "id": "9cfaaf72-7824-4b46-a36d-6390637ee4b4",
   "metadata": {},
   "outputs": [],
   "source": [
    "def get_matching_sequences(outcome1, outcome2, match_length):\n",
    "    matching_sequences = []\n",
    "\n",
    "    matching_sequence = []\n",
    "\n",
    "    for starting_index in range(0, len(outcome1) - match_length + 1):\n",
    "        for trap_index in range(starting_index, starting_index + match_length):\n",
    "            if outcome1[trap_index] != outcome2[trap_index]:\n",
    "                break\n",
    "        else:\n",
    "            matching_sequences.append(\n",
    "                outcome1[starting_index : starting_index + match_length]\n",
    "            )\n",
    "\n",
    "    return matching_sequences"
   ]
  },
  {
   "cell_type": "code",
   "execution_count": null,
   "id": "262ca858-e165-43cb-b3aa-2112d1cb70aa",
   "metadata": {},
   "outputs": [],
   "source": [
    "print(get_matching_sequences(list(range(1, 7)), list(range(1, 7)), 1))\n",
    "print(get_matching_sequences(list(range(1, 7)), list(range(1, 7)), 3))\n",
    "print(get_matching_sequences(list(range(1, 7)), list(range(1, 7)), 6))\n",
    "print(get_matching_sequences([1] * 6, list(range(1, 7)), 1))\n",
    "print(get_matching_sequences([1] * 6, list(range(1, 7)), 6))\n",
    "print(get_matching_sequences([1] * 6, [2] * 6, 1))\n",
    "print(get_matching_sequences([1, 2] * 3, [2, 3] * 3, 1))\n",
    "print(get_matching_sequences([1, 2] * 3, [1, 3] * 3, 1))"
   ]
  },
  {
   "cell_type": "code",
   "execution_count": null,
   "id": "86fea5d2-7b26-4c02-9d23-7a700d540d63",
   "metadata": {},
   "outputs": [],
   "source": [
    "def count_match_market_wins(sample_outcome):\n",
    "    win_counts = {1: 0, 2: 0, 3: 0, 4: 0, 5: 0, 6: 0}\n",
    "\n",
    "    for potential_outcome in potential_outcomes:\n",
    "        for match_length in range(1, 7):\n",
    "            matching_sequences = get_matching_sequences(\n",
    "                potential_outcome, sample_outcome, match_length\n",
    "            )\n",
    "\n",
    "            win_counts[match_length] += len(matching_sequences)\n",
    "\n",
    "    return win_counts"
   ]
  },
  {
   "cell_type": "code",
   "execution_count": null,
   "id": "635e5f93-e351-42d9-9aa4-dc89ad51d4b9",
   "metadata": {},
   "outputs": [],
   "source": [
    "print(count_match_market_wins([1, 2, 3, 4, 5, 6]))\n",
    "print(count_match_market_wins([1] * 6))"
   ]
  },
  {
   "cell_type": "code",
   "execution_count": null,
   "id": "c56dffae-2718-455a-942e-565849399d20",
   "metadata": {},
   "outputs": [],
   "source": [
    "print(calculate_fair_prices(count_match_market_wins([1, 2, 3, 4, 5, 6])))"
   ]
  },
  {
   "cell_type": "markdown",
   "id": "d33c2fcf-3158-4d06-a0c3-3211058ca1eb",
   "metadata": {},
   "source": [
    "## Same Trap market"
   ]
  },
  {
   "cell_type": "code",
   "execution_count": null,
   "id": "d664d7a4-b70a-4880-9ed9-93e68c7ae751",
   "metadata": {},
   "outputs": [],
   "source": [
    "def get_trap_sequences(outcome, trap, match_length):\n",
    "    matching_sequences = []\n",
    "\n",
    "    for starting_index in range(0, len(outcome) - match_length + 1):\n",
    "        for trap_index in range(starting_index, starting_index + match_length):\n",
    "            if outcome[trap_index] != trap:\n",
    "                break\n",
    "        else:\n",
    "            matching_sequences.append(\n",
    "                outcome[starting_index : starting_index + match_length]\n",
    "            )\n",
    "\n",
    "    return matching_sequences"
   ]
  },
  {
   "cell_type": "code",
   "execution_count": null,
   "id": "52421541-e3bc-4383-9f02-eacde2d1e202",
   "metadata": {},
   "outputs": [],
   "source": [
    "def count_same_trap_market_wins(trap):\n",
    "    win_counts = {2: 0, 3: 0, 4: 0, 5: 0, 6: 0}\n",
    "\n",
    "    for potential_outcome in potential_outcomes:\n",
    "        for match_length in range(2, 7):\n",
    "            matching_sequences = get_trap_sequences(\n",
    "                potential_outcome, trap, match_length\n",
    "            )\n",
    "\n",
    "            win_counts[match_length] += len(matching_sequences)\n",
    "\n",
    "    return win_counts"
   ]
  },
  {
   "cell_type": "code",
   "execution_count": null,
   "id": "d45f98e6-b763-49dd-9ed8-c846448f4c7b",
   "metadata": {},
   "outputs": [],
   "source": [
    "print(count_same_trap_market_wins(1))\n",
    "print(count_same_trap_market_wins(2))\n",
    "print(count_same_trap_market_wins(6))"
   ]
  },
  {
   "cell_type": "markdown",
   "id": "537f4f59-6306-473c-9e52-10065865268d",
   "metadata": {},
   "source": [
    "## High/Low market"
   ]
  },
  {
   "cell_type": "code",
   "execution_count": null,
   "id": "8821edf4-df53-4003-b6b9-c1398de68833",
   "metadata": {},
   "outputs": [],
   "source": [
    "def count_high_low_market_wins():\n",
    "    win_counts = {\n",
    "        \"high\": 0,\n",
    "        \"low\": 0,\n",
    "        \"equal\": 0,\n",
    "    }\n",
    "\n",
    "    for potential_outcome in potential_outcomes:\n",
    "        high_trap_count = sum([trap > 3 for trap in potential_outcome])\n",
    "\n",
    "        if high_trap_count > 3:\n",
    "            win_counts[\"high\"] += 1\n",
    "        elif high_trap_count < 3:\n",
    "            win_counts[\"low\"] += 1\n",
    "        else:\n",
    "            win_counts[\"equal\"] += 1\n",
    "\n",
    "    return win_counts"
   ]
  },
  {
   "cell_type": "code",
   "execution_count": null,
   "id": "8baf02ce-7117-45fc-b534-219279c7606c",
   "metadata": {},
   "outputs": [],
   "source": [
    "count_high_low_market_wins()"
   ]
  },
  {
   "cell_type": "code",
   "execution_count": null,
   "id": "0cd00847-0339-4f3a-897b-475d13ada349",
   "metadata": {},
   "outputs": [],
   "source": [
    "calculate_probabilities(count_high_low_market_wins())"
   ]
  },
  {
   "cell_type": "markdown",
   "id": "9652e4d9-ad0a-4273-82a2-db1385b0e168",
   "metadata": {},
   "source": [
    "## Odd/Even market"
   ]
  },
  {
   "cell_type": "code",
   "execution_count": null,
   "id": "8acbbc61-829d-4172-8c34-da0597180857",
   "metadata": {},
   "outputs": [],
   "source": [
    "def count_odd_even_market_wins():\n",
    "    win_counts = {\n",
    "        \"odd\": 0,\n",
    "        \"even\": 0,\n",
    "        \"equal\": 0,\n",
    "    }\n",
    "\n",
    "    for potential_outcome in potential_outcomes:\n",
    "        odd_trap_count = sum([trap % 2 for trap in potential_outcome])\n",
    "\n",
    "        if odd_trap_count > 3:\n",
    "            win_counts[\"odd\"] += 1\n",
    "        elif odd_trap_count < 3:\n",
    "            win_counts[\"even\"] += 1\n",
    "        else:\n",
    "            win_counts[\"equal\"] += 1\n",
    "\n",
    "    return win_counts"
   ]
  },
  {
   "cell_type": "code",
   "execution_count": null,
   "id": "d71915fd-81d7-4e88-bf68-bb12c0192f39",
   "metadata": {},
   "outputs": [],
   "source": [
    "count_odd_even_market_wins()"
   ]
  },
  {
   "cell_type": "code",
   "execution_count": null,
   "id": "40f664d1-5462-45e3-8144-1803979172fd",
   "metadata": {},
   "outputs": [],
   "source": [
    "calculate_probabilities(count_odd_even_market_wins())"
   ]
  },
  {
   "cell_type": "markdown",
   "id": "50ae4921-cb01-49da-9677-7a00e05da2f3",
   "metadata": {},
   "source": [
    "## Trap Most market"
   ]
  },
  {
   "cell_type": "code",
   "execution_count": null,
   "id": "e600f6e3-7935-4a85-bf2c-a74d0c895a3e",
   "metadata": {},
   "outputs": [],
   "source": [
    "def calculate_mode(values):\n",
    "    counts = {}\n",
    "\n",
    "    if not values:\n",
    "        return []\n",
    "\n",
    "    for value in values:\n",
    "        counts[value] = counts.get(value, 0) + 1\n",
    "\n",
    "    sorted_counts = sorted(counts.items(), key=lambda item: -item[1])\n",
    "\n",
    "    return sorted(\n",
    "        [value for value, count in sorted_counts if count == sorted_counts[0][1]]\n",
    "    )\n",
    "\n",
    "\n",
    "def count_trap_most_market_wins():\n",
    "    win_counts = {\n",
    "        \"none\": 0,\n",
    "        1: 0,\n",
    "        2: 0,\n",
    "        3: 0,\n",
    "        4: 0,\n",
    "        5: 0,\n",
    "        6: 0,\n",
    "    }\n",
    "\n",
    "    for potential_outcome in potential_outcomes:\n",
    "        mode = calculate_mode(potential_outcome)\n",
    "\n",
    "        if len(mode) == 1:\n",
    "            win_counts[mode[0]] += 1\n",
    "        else:\n",
    "            win_counts[\"none\"] += 1\n",
    "\n",
    "    return win_counts"
   ]
  },
  {
   "cell_type": "code",
   "execution_count": null,
   "id": "cbc24df7-33d4-4f29-9ca6-ef4ce851749a",
   "metadata": {},
   "outputs": [],
   "source": [
    "count_trap_most_market_wins()"
   ]
  },
  {
   "cell_type": "code",
   "execution_count": null,
   "id": "d47a2ccd-1e70-48d8-ae5e-6789a8964d59",
   "metadata": {},
   "outputs": [],
   "source": [
    "calculate_probabilities(count_trap_most_market_wins())"
   ]
  },
  {
   "cell_type": "markdown",
   "id": "e458d024-1411-454b-a5f8-8a1272098847",
   "metadata": {},
   "source": [
    "## Trap Most Any market"
   ]
  },
  {
   "cell_type": "code",
   "execution_count": null,
   "id": "4da9cd28-870b-4666-957b-8040d438ff97",
   "metadata": {},
   "outputs": [],
   "source": [
    "def count_trap_most_any_market_wins():\n",
    "    win_counts = {\n",
    "        \"none\": 0,\n",
    "        \"any\": 0,\n",
    "    }\n",
    "\n",
    "    for potential_outcome in potential_outcomes:\n",
    "        mode = calculate_mode(potential_outcome)\n",
    "\n",
    "        if len(mode) == 1:\n",
    "            win_counts[\"any\"] += 1\n",
    "        else:\n",
    "            win_counts[\"none\"] += 1\n",
    "\n",
    "    return win_counts"
   ]
  },
  {
   "cell_type": "code",
   "execution_count": null,
   "id": "af5ce129-c433-43e8-aa06-d9b65ad91ed6",
   "metadata": {},
   "outputs": [],
   "source": [
    "count_trap_most_any_market_wins()"
   ]
  },
  {
   "cell_type": "code",
   "execution_count": null,
   "id": "a2c98bcd-4676-46a7-a4ab-0f1ea7c020a6",
   "metadata": {},
   "outputs": [],
   "source": [
    "calculate_probabilities(count_trap_most_any_market_wins())"
   ]
  },
  {
   "cell_type": "markdown",
   "id": "b3acb19c-624a-4ed4-a982-1b45ce16d8cb",
   "metadata": {},
   "source": [
    "## Trap Total market"
   ]
  },
  {
   "cell_type": "code",
   "execution_count": null,
   "id": "2e837f7c-44c4-4486-bb58-5286302bbc2b",
   "metadata": {},
   "outputs": [],
   "source": [
    "def calculate_trap_total_frequencies():\n",
    "    def calculate_range_frequency(frequency_totals, lower, upper):\n",
    "        frequency = 0\n",
    "\n",
    "        for total in frequency_totals:\n",
    "            if lower <= total <= upper:\n",
    "                frequency += frequency_totals[total]\n",
    "\n",
    "        return frequency\n",
    "\n",
    "    frequency_totals = {n: 0 for n in range(6, 37)}\n",
    "\n",
    "    for trap1 in range(1, 7):\n",
    "        for trap2 in range(1, 7):\n",
    "            for trap3 in range(1, 7):\n",
    "                for trap4 in range(1, 7):\n",
    "                    for trap5 in range(1, 7):\n",
    "                        for trap6 in range(1, 7):\n",
    "                            frequency_totals[\n",
    "                                sum((trap1, trap2, trap3, trap4, trap5, trap6))\n",
    "                            ] += 1\n",
    "\n",
    "    frequency_odd = 0\n",
    "    frequency_prime = 0\n",
    "\n",
    "    for total in frequency_totals:\n",
    "        if total % 2 == 1:\n",
    "            frequency_odd += frequency_totals[total]\n",
    "\n",
    "        if total in (7, 11, 13, 17, 19, 23, 29, 31):\n",
    "            frequency_prime += frequency_totals[total]\n",
    "\n",
    "    return {\n",
    "        \"totals\": frequency_totals,\n",
    "        \"parity\": {\n",
    "            \"odd\": frequency_odd,\n",
    "            \"even\": len(potential_outcomes) - frequency_odd,\n",
    "        },\n",
    "        \"prime\": {\n",
    "            \"yes\": frequency_prime,\n",
    "            \"no\": len(potential_outcomes) - frequency_prime,\n",
    "        },\n",
    "        \"ranges\": {\n",
    "            f\"{lower:02}-{upper:02}\": calculate_range_frequency(\n",
    "                frequency_totals, lower, upper\n",
    "            )\n",
    "            for lower, upper in [(6, 6), (7, 16), (17, 26), (27, 36)]\n",
    "        },\n",
    "    }"
   ]
  },
  {
   "cell_type": "code",
   "execution_count": null,
   "id": "0bec4576-1e6a-4547-a407-0865fca1f818",
   "metadata": {},
   "outputs": [],
   "source": [
    "def calculate_trap_total_probabilities(frequencies):\n",
    "    return {\n",
    "        market_key: {\n",
    "            selection_key: frequency / len(potential_outcomes)\n",
    "            for selection_key, frequency in market.items()\n",
    "        }\n",
    "        for market_key, market in frequencies.items()\n",
    "    }"
   ]
  },
  {
   "cell_type": "code",
   "execution_count": null,
   "id": "238d0c97-8ac8-40bd-be58-67568978cf3e",
   "metadata": {},
   "outputs": [],
   "source": [
    "trap_total_frequencies = calculate_trap_total_frequencies()\n",
    "trap_total_frequencies"
   ]
  },
  {
   "cell_type": "code",
   "execution_count": null,
   "id": "5969f805-633a-4503-a8e9-69d000cc5942",
   "metadata": {},
   "outputs": [],
   "source": [
    "trap_total_probabilities = calculate_trap_total_probabilities(trap_total_frequencies)\n",
    "trap_total_probabilities"
   ]
  },
  {
   "cell_type": "code",
   "execution_count": null,
   "id": "f44fbd96-5554-4ff4-9d51-0c4e75b3eecf",
   "metadata": {},
   "outputs": [],
   "source": [
    "print(sum(trap_total_probabilities[\"totals\"].values()))\n",
    "print(sum(trap_total_probabilities[\"parity\"].values()))\n",
    "print(sum(trap_total_probabilities[\"prime\"].values()))\n",
    "print(sum(trap_total_probabilities[\"ranges\"].values()))"
   ]
  },
  {
   "cell_type": "markdown",
   "id": "34d7e5b0-55b1-49f1-82bc-c2df36fc379a",
   "metadata": {},
   "source": [
    "## Catch-A-Match market"
   ]
  },
  {
   "cell_type": "code",
   "execution_count": null,
   "id": "7b11c14b-7498-4923-9478-cc4e46f9adf2",
   "metadata": {
    "tags": []
   },
   "outputs": [],
   "source": [
    "def has_winning_lines(selection, outcome):\n",
    "    outcome_ = list(outcome)\n",
    "\n",
    "    for trap in selection:\n",
    "        if trap in outcome_:\n",
    "            outcome_.remove(trap)\n",
    "\n",
    "    return len(selection) + len(outcome_) == len(outcome)"
   ]
  },
  {
   "cell_type": "code",
   "execution_count": null,
   "id": "cfd872cc-1a89-41df-9341-f1af31f9b588",
   "metadata": {},
   "outputs": [],
   "source": [
    "def count_winning_lines(selection, outcome):\n",
    "    if not has_winning_lines(selection, outcome):\n",
    "        return 0\n",
    "\n",
    "    return len(\n",
    "        [\n",
    "            partial_outcome\n",
    "            for partial_outcome in combinations(sorted(outcome), len(selection))\n",
    "            if partial_outcome == tuple(sorted(selection))\n",
    "        ]\n",
    "    )"
   ]
  },
  {
   "cell_type": "code",
   "execution_count": null,
   "id": "515db5b3-eceb-4873-9991-d714d7921106",
   "metadata": {
    "tags": []
   },
   "outputs": [],
   "source": [
    "def calculate_total_winning_lines(selection):\n",
    "    return sum(\n",
    "        [\n",
    "            count_winning_lines(selection, potential_outcome)\n",
    "            for potential_outcome in potential_outcomes\n",
    "        ]\n",
    "    )"
   ]
  },
  {
   "cell_type": "code",
   "execution_count": null,
   "id": "aa5d1512-ccc9-4aa3-b99d-d919636ea034",
   "metadata": {
    "tags": []
   },
   "outputs": [],
   "source": [
    "def calculate_expected_winning_lines(selection):\n",
    "    return calculate_total_winning_lines(selection) / len(potential_outcomes)"
   ]
  },
  {
   "cell_type": "code",
   "execution_count": null,
   "id": "284a287f-ea65-487e-8ae9-ad3bbeddd379",
   "metadata": {},
   "outputs": [],
   "source": [
    "for match in range(2, 7):\n",
    "    selection = tuple(range(1, match + 1))\n",
    "\n",
    "    print(\n",
    "        f\"Match {match} total winning lines = {calculate_total_winning_lines(selection)}\"\n",
    "    )"
   ]
  },
  {
   "cell_type": "code",
   "execution_count": null,
   "id": "a088c76f-135f-40ed-a064-dcec2da7660c",
   "metadata": {},
   "outputs": [],
   "source": [
    "for match in range(2, 7):\n",
    "    # selection = (1,) * match\n",
    "    selection = tuple(range(1, match + 1))\n",
    "\n",
    "    print(\n",
    "        f\"Match {match} expected winning lines = {calculate_expected_winning_lines(selection):.4f}\"\n",
    "    )"
   ]
  },
  {
   "cell_type": "code",
   "execution_count": null,
   "id": "31a27ae6-511b-4e97-8290-f2f95fee3f98",
   "metadata": {},
   "outputs": [],
   "source": [
    "def nPr(n, r):\n",
    "    return int(factorial(n) / factorial(n - r))"
   ]
  },
  {
   "cell_type": "code",
   "execution_count": null,
   "id": "da291556-ddaa-4188-82b3-f6fed198eaf5",
   "metadata": {},
   "outputs": [],
   "source": [
    "for match in range(2, 7):\n",
    "    total_winning_lines = nPr(6, match) * 6 ** (6 - match)\n",
    "\n",
    "    print(f\"Match {match} total winning lines = {total_winning_lines}\")"
   ]
  },
  {
   "cell_type": "code",
   "execution_count": null,
   "id": "4fe5b9c0-7e2b-483d-89d2-0990875e2882",
   "metadata": {},
   "outputs": [],
   "source": [
    "for match in range(2, 7):\n",
    "    expected_winning_lines = nPr(6, match) * 6 ** (-match)\n",
    "\n",
    "    print(f\"Match {match} total winning lines = {expected_winning_lines:.4f}\")"
   ]
  },
  {
   "cell_type": "markdown",
   "id": "9f7cfd48-25d2-451b-bf37-1ac76fb93b34",
   "metadata": {},
   "source": [
    "## Play Your Dogs Right market"
   ]
  },
  {
   "cell_type": "code",
   "execution_count": null,
   "id": "a1530f80-3c83-44c5-b4b1-f2f818f6a63e",
   "metadata": {},
   "outputs": [],
   "source": [
    "def generate_potential_play_your_dogs_right_selections():\n",
    "    choices = [\"H\", \"L\"]\n",
    "\n",
    "    return list(product(choices, choices, choices, choices, choices, choices))"
   ]
  },
  {
   "cell_type": "code",
   "execution_count": null,
   "id": "2137f933-52e9-49fb-b890-45c48f6e4dfb",
   "metadata": {},
   "outputs": [],
   "source": [
    "def get_matching_sequence_length(selection, outcome, insured=False):\n",
    "    SEED = 3.5\n",
    "\n",
    "    matching_sequence_length = 0\n",
    "\n",
    "    previous_trap = SEED\n",
    "\n",
    "    for race_index in range(len(outcome)):\n",
    "        high_low_selection = selection[race_index]\n",
    "        trap = outcome[race_index]\n",
    "\n",
    "        if trap < previous_trap:\n",
    "            high_low_outcome = \"L\"\n",
    "        elif trap > previous_trap:\n",
    "            high_low_outcome = \"H\"\n",
    "        else:\n",
    "            high_low_outcome = \"E\"\n",
    "\n",
    "        correct = high_low_selection == high_low_outcome\n",
    "\n",
    "        if correct:\n",
    "            matching_sequence_length += 1\n",
    "        elif insured and ((race_index == 0 and (trap == 3 or trap == 4)) or high_low_outcome == \"E\"):\n",
    "            insured = False\n",
    "        else:\n",
    "            break\n",
    "\n",
    "        previous_trap = trap\n",
    "\n",
    "    return matching_sequence_length"
   ]
  },
  {
   "cell_type": "code",
   "execution_count": null,
   "id": "0c9f8c8d-b68b-479c-82a2-dbf76a0e07c2",
   "metadata": {},
   "outputs": [],
   "source": [
    "def count_matching_sequence_lengths(selection, insured=False):\n",
    "    matching_sequence_lengths = [\n",
    "        get_matching_sequence_length(selection, potential_outcome, insured=insured)\n",
    "        for potential_outcome in potential_outcomes\n",
    "    ]\n",
    "\n",
    "    return Counter(matching_sequence_lengths)"
   ]
  },
  {
   "cell_type": "code",
   "execution_count": null,
   "id": "95c9e820-b389-4ca3-87dc-fd450ca6d04e",
   "metadata": {},
   "outputs": [],
   "source": [
    "def calculate_average_matching_sequence_length(selection, insured=False):\n",
    "    matching_sequence_length_counts = count_matching_sequence_lengths(\n",
    "        selection, insured=insured\n",
    "    )\n",
    "\n",
    "    return sum(\n",
    "        length * count for length, count in matching_sequence_length_counts.items()\n",
    "    ) / len(potential_outcomes)"
   ]
  },
  {
   "cell_type": "code",
   "execution_count": null,
   "id": "a0546738-224a-4fe9-b34a-2ea4edc54654",
   "metadata": {
    "tags": []
   },
   "outputs": [],
   "source": [
    "def calculate_average_matching_sequence_lengths(insured=False):\n",
    "    potential_selections = generate_potential_play_your_dogs_right_selections()\n",
    "\n",
    "    return sorted(\n",
    "        [\n",
    "            (\n",
    "                selection,\n",
    "                calculate_average_matching_sequence_length(selection, insured=insured),\n",
    "            )\n",
    "            for selection in potential_selections\n",
    "        ],\n",
    "        key=lambda x: -x[1],\n",
    "    )"
   ]
  },
  {
   "cell_type": "code",
   "execution_count": null,
   "id": "ec7438b9-39cf-4424-97b0-7af27a29c3fa",
   "metadata": {},
   "outputs": [],
   "source": [
    "def calculate_matching_sequence_length_probabilities(selection, insured=False):\n",
    "    matching_sequence_length_counts = count_matching_sequence_lengths(\n",
    "        selection, insured=insured\n",
    "    )\n",
    "\n",
    "    return {\n",
    "        key: matching_sequence_length_counts[key] / len(potential_outcomes)\n",
    "        for key in range(0, 7)\n",
    "    }"
   ]
  },
  {
   "cell_type": "code",
   "execution_count": null,
   "id": "09dca484-ba11-45da-830b-6a65ac9167f0",
   "metadata": {},
   "outputs": [],
   "source": [
    "def calculate_matching_sequence_length_of_n_probability(selection, n, insured=False):\n",
    "    matching_sequence_length_probabilities = (\n",
    "        calculate_matching_sequence_length_probabilities(selection, insured=insured)\n",
    "    )\n",
    "\n",
    "    return matching_sequence_length_probabilities[n]"
   ]
  },
  {
   "cell_type": "code",
   "execution_count": null,
   "id": "6de8a12a-ddb2-436d-8a33-b6a9ff336a15",
   "metadata": {},
   "outputs": [],
   "source": [
    "def calculate_matching_sequence_length_of_n_probabililities(n, insured=False):\n",
    "    potential_selections = generate_potential_play_your_dogs_right_selections()\n",
    "\n",
    "    return sorted(\n",
    "        [\n",
    "            (\n",
    "                selection,\n",
    "                calculate_matching_sequence_length_of_n_probability(\n",
    "                    selection, n, insured=insured\n",
    "                ),\n",
    "            )\n",
    "            for selection in potential_selections\n",
    "        ],\n",
    "        key=lambda x: -x[1],\n",
    "    )"
   ]
  },
  {
   "cell_type": "code",
   "execution_count": null,
   "id": "17b38f82-aaf2-4bcd-8456-766c08464890",
   "metadata": {},
   "outputs": [],
   "source": [
    "def calculate_highest_matching_sequence_length_of_n_probabililities(insured=False):\n",
    "    return {\n",
    "        n: calculate_matching_sequence_length_of_n_probabililities(n, insured=insured)[\n",
    "            0\n",
    "        ][1]\n",
    "        for n in range(0, 7)\n",
    "    }"
   ]
  },
  {
   "cell_type": "code",
   "execution_count": null,
   "id": "f4dfa6c8-b9a3-469e-9241-c3a57200c095",
   "metadata": {},
   "outputs": [],
   "source": [
    "probabililities_without_insurance = (\n",
    "    calculate_highest_matching_sequence_length_of_n_probabililities()\n",
    ")\n",
    "probabililities_without_insurance"
   ]
  },
  {
   "cell_type": "code",
   "execution_count": null,
   "id": "fbad2af5-dca4-46b6-b75e-a2754b499a2d",
   "metadata": {},
   "outputs": [],
   "source": [
    "sum(probabililities_without_insurance.values())"
   ]
  },
  {
   "cell_type": "code",
   "execution_count": null,
   "id": "b02ae6ab-70ba-4ad1-ac8f-285ade4ee090",
   "metadata": {},
   "outputs": [],
   "source": [
    "probabililities_with_insurance = (\n",
    "    calculate_highest_matching_sequence_length_of_n_probabililities(insured=True)\n",
    ")\n",
    "probabililities_with_insurance"
   ]
  },
  {
   "cell_type": "code",
   "execution_count": null,
   "id": "869c5a45-d0e9-40b8-b2e4-3c9101f9785e",
   "metadata": {},
   "outputs": [],
   "source": [
    "sum(probabililities_with_insurance.values())"
   ]
  }
 ],
 "metadata": {
  "kernelspec": {
   "display_name": "Python 3 (ipykernel)",
   "language": "python",
   "name": "python3"
  },
  "language_info": {
   "codemirror_mode": {
    "name": "ipython",
    "version": 3
   },
   "file_extension": ".py",
   "mimetype": "text/x-python",
   "name": "python",
   "nbconvert_exporter": "python",
   "pygments_lexer": "ipython3",
   "version": "3.10.8"
  }
 },
 "nbformat": 4,
 "nbformat_minor": 5
}

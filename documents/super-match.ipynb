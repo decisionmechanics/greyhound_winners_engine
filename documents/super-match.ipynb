{
 "cells": [
  {
   "cell_type": "markdown",
   "id": "3de8fd3d-2620-412b-8c18-1667789fc8ea",
   "metadata": {
    "tags": []
   },
   "source": [
    "# Super Match Game odds"
   ]
  },
  {
   "cell_type": "code",
   "execution_count": null,
   "id": "5233fefd-bf05-490d-96a4-1b3b18682453",
   "metadata": {
    "tags": []
   },
   "outputs": [],
   "source": [
    "from itertools import combinations, product"
   ]
  },
  {
   "cell_type": "code",
   "execution_count": null,
   "id": "40b4bd08-d469-4494-81ab-d73ac065a6be",
   "metadata": {},
   "outputs": [],
   "source": [
    "traps = list(range(1, 7))\n",
    "potential_outcomes = list(product(traps, traps, traps, traps, traps, traps))\n",
    "\n",
    "print(len(potential_outcomes) == 6**6)\n",
    "print(potential_outcomes[:10])"
   ]
  },
  {
   "cell_type": "markdown",
   "id": "3dac6704-4062-476f-94d1-08968bb42a7d",
   "metadata": {
    "tags": []
   },
   "source": [
    "## Win market"
   ]
  },
  {
   "cell_type": "code",
   "execution_count": null,
   "id": "b5e83818-72c3-4434-b2b2-39c621db120c",
   "metadata": {
    "tags": []
   },
   "outputs": [],
   "source": [
    "selection = list(range(1, 7))\n",
    "\n",
    "for match in range(2, 7):\n",
    "    winning_outcomes = 0\n",
    "\n",
    "    for outcome in potential_outcomes:\n",
    "        for i in range(len(outcome) - match + 1):\n",
    "            for j in range(match):\n",
    "                if selection[j] != outcome[i + j]:\n",
    "                    break\n",
    "            else:\n",
    "                winning_outcomes += 1\n",
    "\n",
    "    print(\n",
    "        f\"Match {match} win market win probability: {winning_outcomes / 6**6:.8f} (1/{winning_outcomes})\"\n",
    "    )"
   ]
  },
  {
   "cell_type": "markdown",
   "id": "88bbdab1-ba7e-4d04-b289-17b516d91ae1",
   "metadata": {},
   "source": [
    "## Place market"
   ]
  },
  {
   "cell_type": "code",
   "execution_count": null,
   "id": "f6f7a70d-b424-49aa-bfa0-a0313a578533",
   "metadata": {
    "tags": []
   },
   "outputs": [],
   "source": [
    "selection = list(range(1, 7))\n",
    "\n",
    "for match in range(4, 7):\n",
    "    winning_outcomes = 0\n",
    "\n",
    "    subselections = list(combinations(selection, match))\n",
    "    \n",
    "    for outcome in potential_outcomes:\n",
    "        suboutcomes = list(combinations(outcome, match))\n",
    "\n",
    "        for subselection in subselections:\n",
    "            for suboutcome in suboutcomes:\n",
    "                if subselection == suboutcome:\n",
    "                    winning_outcomes += 1\n",
    "\n",
    "    # print(f\"Match {match} place market win probability: {winning_outcomes / 6**6:.8f} (1/{winning_outcomes})\")\n",
    "    print(f\"Match {match} place market win probability: {winning_outcomes / 6**6:.8f}\")    "
   ]
  }
 ],
 "metadata": {
  "kernelspec": {
   "display_name": "Python 3 (ipykernel)",
   "language": "python",
   "name": "python3"
  },
  "language_info": {
   "codemirror_mode": {
    "name": "ipython",
    "version": 3
   },
   "file_extension": ".py",
   "mimetype": "text/x-python",
   "name": "python",
   "nbconvert_exporter": "python",
   "pygments_lexer": "ipython3",
   "version": "3.11.9"
  }
 },
 "nbformat": 4,
 "nbformat_minor": 5
}

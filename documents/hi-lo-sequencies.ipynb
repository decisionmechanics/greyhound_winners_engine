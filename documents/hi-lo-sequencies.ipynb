{
 "cells": [
  {
   "cell_type": "code",
   "execution_count": null,
   "id": "3cb1b6f5-24c9-4403-a7a3-46d490d531b2",
   "metadata": {},
   "outputs": [],
   "source": [
    "from itertools import product\n",
    "\n",
    "import plotly.express as px\n",
    "import polars as pl"
   ]
  },
  {
   "cell_type": "code",
   "execution_count": null,
   "id": "66790afc-b1ed-4979-9bd9-a9dec02b3bfd",
   "metadata": {},
   "outputs": [],
   "source": [
    "traps = list(range(1, 7))\n",
    "potential_outcomes = list(product(traps, traps, traps, traps, traps, traps))"
   ]
  },
  {
   "cell_type": "code",
   "execution_count": null,
   "id": "d585d36b-0e5b-4e7c-9a31-15ffcde25340",
   "metadata": {},
   "outputs": [],
   "source": [
    "def near(a, b):\n",
    "    return abs(a - b) < 1e-6"
   ]
  },
  {
   "cell_type": "code",
   "execution_count": null,
   "id": "0c2ae0a2-c2b2-4519-8969-da82db7d127a",
   "metadata": {},
   "outputs": [],
   "source": [
    "def generate_hi_lo_sequence(outcome):\n",
    "    last_trap = 3.5\n",
    "\n",
    "    result = []\n",
    "\n",
    "    for trap in outcome:\n",
    "        if near(trap, last_trap):\n",
    "            result.append(\"E\")\n",
    "        elif trap < last_trap:\n",
    "            result.append(\"L\")\n",
    "        else:\n",
    "            result.append(\"H\")\n",
    "\n",
    "        last_trap = trap\n",
    "\n",
    "    return result"
   ]
  },
  {
   "cell_type": "code",
   "execution_count": null,
   "id": "61232285-35df-4f5e-b9b9-78b49d92a7de",
   "metadata": {},
   "outputs": [],
   "source": [
    "hi_lo_sequence_df = pl.DataFrame({\n",
    "    \"outcome\": [\"\".join(str(trap) for trap in outcome) for outcome in potential_outcomes],\n",
    "    \"hi_lo_sequence\": [\"\".join(generate_hi_lo_sequence(outcome)) for outcome in potential_outcomes]\n",
    "})"
   ]
  },
  {
   "cell_type": "code",
   "execution_count": null,
   "id": "642858a0-7d27-468f-9471-14a48221c261",
   "metadata": {},
   "outputs": [],
   "source": [
    "hi_lo_sequence_df.write_parquet(\"hi-lo-sequencies.parquet\")"
   ]
  },
  {
   "cell_type": "code",
   "execution_count": null,
   "id": "c9c5a1b2-9f4b-4b34-8c3d-162cfe75271d",
   "metadata": {},
   "outputs": [],
   "source": [
    "hi_lo_sequence_frequency_df = (\n",
    "    hi_lo_sequence_df\n",
    "    .select([pl.col(\"hi_lo_sequence\").value_counts(sort=True)])\n",
    "    .unnest(\"hi_lo_sequence\")\n",
    ")"
   ]
  },
  {
   "cell_type": "code",
   "execution_count": null,
   "id": "2da784a7-ccc6-4e95-a19b-998428b040a1",
   "metadata": {},
   "outputs": [],
   "source": [
    "fig = px.bar(\n",
    "    hi_lo_sequence_frequency_df,\n",
    "    x=\"count\",\n",
    "    y=\"hi_lo_sequence\",\n",
    "    orientation=\"h\",\n",
    "    height=1000,\n",
    "    labels={\n",
    "        \"hi_lo_sequence\": \"Sequence\",\n",
    "        \"count\": \"n\",\n",
    "    },\n",
    ")\n",
    "\n",
    "fig.show()"
   ]
  }
 ],
 "metadata": {
  "kernelspec": {
   "display_name": "Python 3 (ipykernel)",
   "language": "python",
   "name": "python3"
  },
  "language_info": {
   "codemirror_mode": {
    "name": "ipython",
    "version": 3
   },
   "file_extension": ".py",
   "mimetype": "text/x-python",
   "name": "python",
   "nbconvert_exporter": "python",
   "pygments_lexer": "ipython3",
   "version": "3.11.9"
  }
 },
 "nbformat": 4,
 "nbformat_minor": 5
}
